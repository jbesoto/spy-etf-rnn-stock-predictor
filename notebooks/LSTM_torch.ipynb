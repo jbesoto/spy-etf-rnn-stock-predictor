{
 "cells": [
  {
   "cell_type": "markdown",
   "metadata": {},
   "source": [
    "# LSTM vs. Transformers for Stock Price Prediction\n",
    "\n",
    "---\n",
    "\n",
    "\n",
    "\n",
    "> Question: Which model is better for predicting stock prices, using only previous stock price data, LSTM's or Transformers?\n",
    "\n",
    "We will evaluate our models on several axis: First, prediction performance on the test data set. Second, the variance of our models predictions over the variance of the underlying test data. Third, the speed of training and inference, and lastly but related, the number of parameters in our model.\n",
    "\n",
    "Evaluation Metrics:\n",
    "\n",
    "For prediction performance: Mean Absolute Percentage Error (MAPE).\n",
    "Specific implementation here: https://scikit-learn.org/stable/modules/generated/sklearn.metrics.mean_absolute_percentage_error.html\n",
    "\n",
    "For uncertainty: np.var('our predictions') / np.var('actual data')\n",
    "\n",
    "For speed: seconds of runtime.\n",
    "Specific implementation: https://docs.python.org/3/library/timeit.html\n",
    "\n",
    "Implementation steps:\n",
    "\n",
    "1. Set up our helper classes (`ETL`, `PredictAndForecast`, `Evaluate`). ✅\n",
    "2. Implement an LSTM as a baseline.✅\n",
    "3. Implement a transformer architecture for timeseries regression.✅\n",
    "4. Train our models and use them for inference, measuring performance as we go.✅\n",
    "5. Evaluate our models' performances against our test set. ✅\n",
    "6. Visualize our predictions as a sanity check.✅"
   ]
  },
  {
   "cell_type": "code",
   "execution_count": 1,
   "metadata": {},
   "outputs": [],
   "source": [
    "import pandas as pd\n",
    "import numpy as np\n",
    "import matplotlib.pyplot as plt\n",
    "import os\n",
    "import torch\n",
    "import torch.nn as nn\n",
    "import yfinance as yf"
   ]
  },
  {
   "cell_type": "code",
   "execution_count": 2,
   "metadata": {},
   "outputs": [],
   "source": [
    "FILE_PATH = '../data/spy-etf.csv'\n",
    "\n",
    "\n",
    "if os.path.exists(FILE_PATH):\n",
    "    data = pd.read_csv(FILE_PATH)\n",
    "else:\n",
    "    data = yf.Ticker(\"SPY\")\n",
    "    data = data.history(period=\"max\")\n",
    "    data.to_csv(FILE_PATH)"
   ]
  },
  {
   "cell_type": "code",
   "execution_count": 3,
   "metadata": {},
   "outputs": [
    {
     "data": {
      "text/html": [
       "<div>\n",
       "<style scoped>\n",
       "    .dataframe tbody tr th:only-of-type {\n",
       "        vertical-align: middle;\n",
       "    }\n",
       "\n",
       "    .dataframe tbody tr th {\n",
       "        vertical-align: top;\n",
       "    }\n",
       "\n",
       "    .dataframe thead th {\n",
       "        text-align: right;\n",
       "    }\n",
       "</style>\n",
       "<table border=\"1\" class=\"dataframe\">\n",
       "  <thead>\n",
       "    <tr style=\"text-align: right;\">\n",
       "      <th></th>\n",
       "      <th>Date</th>\n",
       "      <th>Open</th>\n",
       "      <th>High</th>\n",
       "      <th>Low</th>\n",
       "      <th>Close</th>\n",
       "      <th>Adj Close</th>\n",
       "      <th>Volume</th>\n",
       "    </tr>\n",
       "  </thead>\n",
       "  <tbody>\n",
       "    <tr>\n",
       "      <th>0</th>\n",
       "      <td>1993-01-29</td>\n",
       "      <td>43.968750</td>\n",
       "      <td>43.968750</td>\n",
       "      <td>43.750000</td>\n",
       "      <td>43.937500</td>\n",
       "      <td>24.840673</td>\n",
       "      <td>1003200</td>\n",
       "    </tr>\n",
       "    <tr>\n",
       "      <th>1</th>\n",
       "      <td>1993-02-01</td>\n",
       "      <td>43.968750</td>\n",
       "      <td>44.250000</td>\n",
       "      <td>43.968750</td>\n",
       "      <td>44.250000</td>\n",
       "      <td>25.017349</td>\n",
       "      <td>480500</td>\n",
       "    </tr>\n",
       "    <tr>\n",
       "      <th>2</th>\n",
       "      <td>1993-02-02</td>\n",
       "      <td>44.218750</td>\n",
       "      <td>44.375000</td>\n",
       "      <td>44.125000</td>\n",
       "      <td>44.343750</td>\n",
       "      <td>25.070351</td>\n",
       "      <td>201300</td>\n",
       "    </tr>\n",
       "    <tr>\n",
       "      <th>3</th>\n",
       "      <td>1993-02-03</td>\n",
       "      <td>44.406250</td>\n",
       "      <td>44.843750</td>\n",
       "      <td>44.375000</td>\n",
       "      <td>44.812500</td>\n",
       "      <td>25.335371</td>\n",
       "      <td>529400</td>\n",
       "    </tr>\n",
       "    <tr>\n",
       "      <th>4</th>\n",
       "      <td>1993-02-04</td>\n",
       "      <td>44.968750</td>\n",
       "      <td>45.093750</td>\n",
       "      <td>44.468750</td>\n",
       "      <td>45.000000</td>\n",
       "      <td>25.441372</td>\n",
       "      <td>531500</td>\n",
       "    </tr>\n",
       "    <tr>\n",
       "      <th>...</th>\n",
       "      <td>...</td>\n",
       "      <td>...</td>\n",
       "      <td>...</td>\n",
       "      <td>...</td>\n",
       "      <td>...</td>\n",
       "      <td>...</td>\n",
       "      <td>...</td>\n",
       "    </tr>\n",
       "    <tr>\n",
       "      <th>7775</th>\n",
       "      <td>2023-12-14</td>\n",
       "      <td>472.500000</td>\n",
       "      <td>473.730011</td>\n",
       "      <td>469.250000</td>\n",
       "      <td>472.010010</td>\n",
       "      <td>470.104004</td>\n",
       "      <td>119026000</td>\n",
       "    </tr>\n",
       "    <tr>\n",
       "      <th>7776</th>\n",
       "      <td>2023-12-15</td>\n",
       "      <td>469.489990</td>\n",
       "      <td>470.700012</td>\n",
       "      <td>467.429993</td>\n",
       "      <td>469.329987</td>\n",
       "      <td>469.329987</td>\n",
       "      <td>141319300</td>\n",
       "    </tr>\n",
       "    <tr>\n",
       "      <th>7777</th>\n",
       "      <td>2023-12-18</td>\n",
       "      <td>470.980011</td>\n",
       "      <td>472.980011</td>\n",
       "      <td>469.890015</td>\n",
       "      <td>471.970001</td>\n",
       "      <td>471.970001</td>\n",
       "      <td>70375300</td>\n",
       "    </tr>\n",
       "    <tr>\n",
       "      <th>7778</th>\n",
       "      <td>2023-12-19</td>\n",
       "      <td>472.529999</td>\n",
       "      <td>474.920013</td>\n",
       "      <td>472.450012</td>\n",
       "      <td>474.839996</td>\n",
       "      <td>474.839996</td>\n",
       "      <td>55761800</td>\n",
       "    </tr>\n",
       "    <tr>\n",
       "      <th>7779</th>\n",
       "      <td>2023-12-20</td>\n",
       "      <td>473.959991</td>\n",
       "      <td>475.891510</td>\n",
       "      <td>467.820007</td>\n",
       "      <td>468.260010</td>\n",
       "      <td>468.260010</td>\n",
       "      <td>95761148</td>\n",
       "    </tr>\n",
       "  </tbody>\n",
       "</table>\n",
       "<p>7780 rows × 7 columns</p>\n",
       "</div>"
      ],
      "text/plain": [
       "            Date        Open        High         Low       Close   Adj Close  \\\n",
       "0     1993-01-29   43.968750   43.968750   43.750000   43.937500   24.840673   \n",
       "1     1993-02-01   43.968750   44.250000   43.968750   44.250000   25.017349   \n",
       "2     1993-02-02   44.218750   44.375000   44.125000   44.343750   25.070351   \n",
       "3     1993-02-03   44.406250   44.843750   44.375000   44.812500   25.335371   \n",
       "4     1993-02-04   44.968750   45.093750   44.468750   45.000000   25.441372   \n",
       "...          ...         ...         ...         ...         ...         ...   \n",
       "7775  2023-12-14  472.500000  473.730011  469.250000  472.010010  470.104004   \n",
       "7776  2023-12-15  469.489990  470.700012  467.429993  469.329987  469.329987   \n",
       "7777  2023-12-18  470.980011  472.980011  469.890015  471.970001  471.970001   \n",
       "7778  2023-12-19  472.529999  474.920013  472.450012  474.839996  474.839996   \n",
       "7779  2023-12-20  473.959991  475.891510  467.820007  468.260010  468.260010   \n",
       "\n",
       "         Volume  \n",
       "0       1003200  \n",
       "1        480500  \n",
       "2        201300  \n",
       "3        529400  \n",
       "4        531500  \n",
       "...         ...  \n",
       "7775  119026000  \n",
       "7776  141319300  \n",
       "7777   70375300  \n",
       "7778   55761800  \n",
       "7779   95761148  \n",
       "\n",
       "[7780 rows x 7 columns]"
      ]
     },
     "execution_count": 3,
     "metadata": {},
     "output_type": "execute_result"
    }
   ],
   "source": [
    "data"
   ]
  },
  {
   "cell_type": "code",
   "execution_count": 4,
   "metadata": {},
   "outputs": [
    {
     "data": {
      "text/html": [
       "<div>\n",
       "<style scoped>\n",
       "    .dataframe tbody tr th:only-of-type {\n",
       "        vertical-align: middle;\n",
       "    }\n",
       "\n",
       "    .dataframe tbody tr th {\n",
       "        vertical-align: top;\n",
       "    }\n",
       "\n",
       "    .dataframe thead th {\n",
       "        text-align: right;\n",
       "    }\n",
       "</style>\n",
       "<table border=\"1\" class=\"dataframe\">\n",
       "  <thead>\n",
       "    <tr style=\"text-align: right;\">\n",
       "      <th></th>\n",
       "      <th>Date</th>\n",
       "      <th>Close</th>\n",
       "    </tr>\n",
       "  </thead>\n",
       "  <tbody>\n",
       "    <tr>\n",
       "      <th>0</th>\n",
       "      <td>1993-01-29</td>\n",
       "      <td>43.937500</td>\n",
       "    </tr>\n",
       "    <tr>\n",
       "      <th>1</th>\n",
       "      <td>1993-02-01</td>\n",
       "      <td>44.250000</td>\n",
       "    </tr>\n",
       "    <tr>\n",
       "      <th>2</th>\n",
       "      <td>1993-02-02</td>\n",
       "      <td>44.343750</td>\n",
       "    </tr>\n",
       "    <tr>\n",
       "      <th>3</th>\n",
       "      <td>1993-02-03</td>\n",
       "      <td>44.812500</td>\n",
       "    </tr>\n",
       "    <tr>\n",
       "      <th>4</th>\n",
       "      <td>1993-02-04</td>\n",
       "      <td>45.000000</td>\n",
       "    </tr>\n",
       "    <tr>\n",
       "      <th>...</th>\n",
       "      <td>...</td>\n",
       "      <td>...</td>\n",
       "    </tr>\n",
       "    <tr>\n",
       "      <th>7775</th>\n",
       "      <td>2023-12-14</td>\n",
       "      <td>472.010010</td>\n",
       "    </tr>\n",
       "    <tr>\n",
       "      <th>7776</th>\n",
       "      <td>2023-12-15</td>\n",
       "      <td>469.329987</td>\n",
       "    </tr>\n",
       "    <tr>\n",
       "      <th>7777</th>\n",
       "      <td>2023-12-18</td>\n",
       "      <td>471.970001</td>\n",
       "    </tr>\n",
       "    <tr>\n",
       "      <th>7778</th>\n",
       "      <td>2023-12-19</td>\n",
       "      <td>474.839996</td>\n",
       "    </tr>\n",
       "    <tr>\n",
       "      <th>7779</th>\n",
       "      <td>2023-12-20</td>\n",
       "      <td>468.260010</td>\n",
       "    </tr>\n",
       "  </tbody>\n",
       "</table>\n",
       "<p>7780 rows × 2 columns</p>\n",
       "</div>"
      ],
      "text/plain": [
       "            Date       Close\n",
       "0     1993-01-29   43.937500\n",
       "1     1993-02-01   44.250000\n",
       "2     1993-02-02   44.343750\n",
       "3     1993-02-03   44.812500\n",
       "4     1993-02-04   45.000000\n",
       "...          ...         ...\n",
       "7775  2023-12-14  472.010010\n",
       "7776  2023-12-15  469.329987\n",
       "7777  2023-12-18  471.970001\n",
       "7778  2023-12-19  474.839996\n",
       "7779  2023-12-20  468.260010\n",
       "\n",
       "[7780 rows x 2 columns]"
      ]
     },
     "execution_count": 4,
     "metadata": {},
     "output_type": "execute_result"
    }
   ],
   "source": [
    "data = data[['Date', 'Close']]\n",
    "data"
   ]
  },
  {
   "cell_type": "code",
   "execution_count": 5,
   "metadata": {},
   "outputs": [
    {
     "data": {
      "text/plain": [
       "'cpu'"
      ]
     },
     "execution_count": 5,
     "metadata": {},
     "output_type": "execute_result"
    }
   ],
   "source": [
    "device = 'cuda:0' if torch.cuda.is_available() else 'cpu'\n",
    "device"
   ]
  },
  {
   "cell_type": "code",
   "execution_count": 6,
   "metadata": {},
   "outputs": [
    {
     "name": "stderr",
     "output_type": "stream",
     "text": [
      "/var/folders/5t/1wwb4x_d4hd53smqcd96d_500000gn/T/ipykernel_84776/1819287010.py:1: SettingWithCopyWarning: \n",
      "A value is trying to be set on a copy of a slice from a DataFrame.\n",
      "Try using .loc[row_indexer,col_indexer] = value instead\n",
      "\n",
      "See the caveats in the documentation: https://pandas.pydata.org/pandas-docs/stable/user_guide/indexing.html#returning-a-view-versus-a-copy\n",
      "  data['Date'] = pd.to_datetime(data['Date'])\n"
     ]
    },
    {
     "data": {
      "text/plain": [
       "[<matplotlib.lines.Line2D at 0x153495590>]"
      ]
     },
     "execution_count": 6,
     "metadata": {},
     "output_type": "execute_result"
    },
    {
     "data": {
      "image/png": "[encoded data removed]",
      "text/plain": [
       "<Figure size 640x480 with 1 Axes>"
      ]
     },
     "metadata": {},
     "output_type": "display_data"
    }
   ],
   "source": [
    "data['Date'] = pd.to_datetime(data['Date'])\n",
    "\n",
    "plt.plot(data['Date'], data['Close'])"
   ]
  },
  {
   "cell_type": "code",
   "execution_count": 7,
   "metadata": {},
   "outputs": [
    {
     "data": {
      "text/html": [
       "<div>\n",
       "<style scoped>\n",
       "    .dataframe tbody tr th:only-of-type {\n",
       "        vertical-align: middle;\n",
       "    }\n",
       "\n",
       "    .dataframe tbody tr th {\n",
       "        vertical-align: top;\n",
       "    }\n",
       "\n",
       "    .dataframe thead th {\n",
       "        text-align: right;\n",
       "    }\n",
       "</style>\n",
       "<table border=\"1\" class=\"dataframe\">\n",
       "  <thead>\n",
       "    <tr style=\"text-align: right;\">\n",
       "      <th></th>\n",
       "      <th>Close</th>\n",
       "      <th>Close(t-1)</th>\n",
       "      <th>Close(t-2)</th>\n",
       "      <th>Close(t-3)</th>\n",
       "      <th>Close(t-4)</th>\n",
       "      <th>Close(t-5)</th>\n",
       "      <th>Close(t-6)</th>\n",
       "      <th>Close(t-7)</th>\n",
       "    </tr>\n",
       "    <tr>\n",
       "      <th>Date</th>\n",
       "      <th></th>\n",
       "      <th></th>\n",
       "      <th></th>\n",
       "      <th></th>\n",
       "      <th></th>\n",
       "      <th></th>\n",
       "      <th></th>\n",
       "      <th></th>\n",
       "    </tr>\n",
       "  </thead>\n",
       "  <tbody>\n",
       "    <tr>\n",
       "      <th>1993-02-09</th>\n",
       "      <td>44.656250</td>\n",
       "      <td>44.968750</td>\n",
       "      <td>44.968750</td>\n",
       "      <td>45.000000</td>\n",
       "      <td>44.812500</td>\n",
       "      <td>44.343750</td>\n",
       "      <td>44.250000</td>\n",
       "      <td>43.937500</td>\n",
       "    </tr>\n",
       "    <tr>\n",
       "      <th>1993-02-10</th>\n",
       "      <td>44.718750</td>\n",
       "      <td>44.656250</td>\n",
       "      <td>44.968750</td>\n",
       "      <td>44.968750</td>\n",
       "      <td>45.000000</td>\n",
       "      <td>44.812500</td>\n",
       "      <td>44.343750</td>\n",
       "      <td>44.250000</td>\n",
       "    </tr>\n",
       "    <tr>\n",
       "      <th>1993-02-11</th>\n",
       "      <td>44.937500</td>\n",
       "      <td>44.718750</td>\n",
       "      <td>44.656250</td>\n",
       "      <td>44.968750</td>\n",
       "      <td>44.968750</td>\n",
       "      <td>45.000000</td>\n",
       "      <td>44.812500</td>\n",
       "      <td>44.343750</td>\n",
       "    </tr>\n",
       "    <tr>\n",
       "      <th>1993-02-12</th>\n",
       "      <td>44.593750</td>\n",
       "      <td>44.937500</td>\n",
       "      <td>44.718750</td>\n",
       "      <td>44.656250</td>\n",
       "      <td>44.968750</td>\n",
       "      <td>44.968750</td>\n",
       "      <td>45.000000</td>\n",
       "      <td>44.812500</td>\n",
       "    </tr>\n",
       "    <tr>\n",
       "      <th>1993-02-16</th>\n",
       "      <td>43.468750</td>\n",
       "      <td>44.593750</td>\n",
       "      <td>44.937500</td>\n",
       "      <td>44.718750</td>\n",
       "      <td>44.656250</td>\n",
       "      <td>44.968750</td>\n",
       "      <td>44.968750</td>\n",
       "      <td>45.000000</td>\n",
       "    </tr>\n",
       "    <tr>\n",
       "      <th>...</th>\n",
       "      <td>...</td>\n",
       "      <td>...</td>\n",
       "      <td>...</td>\n",
       "      <td>...</td>\n",
       "      <td>...</td>\n",
       "      <td>...</td>\n",
       "      <td>...</td>\n",
       "      <td>...</td>\n",
       "    </tr>\n",
       "    <tr>\n",
       "      <th>2023-12-14</th>\n",
       "      <td>472.010010</td>\n",
       "      <td>470.500000</td>\n",
       "      <td>464.100006</td>\n",
       "      <td>461.989990</td>\n",
       "      <td>460.200012</td>\n",
       "      <td>458.230011</td>\n",
       "      <td>454.760010</td>\n",
       "      <td>456.600006</td>\n",
       "    </tr>\n",
       "    <tr>\n",
       "      <th>2023-12-15</th>\n",
       "      <td>469.329987</td>\n",
       "      <td>472.010010</td>\n",
       "      <td>470.500000</td>\n",
       "      <td>464.100006</td>\n",
       "      <td>461.989990</td>\n",
       "      <td>460.200012</td>\n",
       "      <td>458.230011</td>\n",
       "      <td>454.760010</td>\n",
       "    </tr>\n",
       "    <tr>\n",
       "      <th>2023-12-18</th>\n",
       "      <td>471.970001</td>\n",
       "      <td>469.329987</td>\n",
       "      <td>472.010010</td>\n",
       "      <td>470.500000</td>\n",
       "      <td>464.100006</td>\n",
       "      <td>461.989990</td>\n",
       "      <td>460.200012</td>\n",
       "      <td>458.230011</td>\n",
       "    </tr>\n",
       "    <tr>\n",
       "      <th>2023-12-19</th>\n",
       "      <td>474.839996</td>\n",
       "      <td>471.970001</td>\n",
       "      <td>469.329987</td>\n",
       "      <td>472.010010</td>\n",
       "      <td>470.500000</td>\n",
       "      <td>464.100006</td>\n",
       "      <td>461.989990</td>\n",
       "      <td>460.200012</td>\n",
       "    </tr>\n",
       "    <tr>\n",
       "      <th>2023-12-20</th>\n",
       "      <td>468.260010</td>\n",
       "      <td>474.839996</td>\n",
       "      <td>471.970001</td>\n",
       "      <td>469.329987</td>\n",
       "      <td>472.010010</td>\n",
       "      <td>470.500000</td>\n",
       "      <td>464.100006</td>\n",
       "      <td>461.989990</td>\n",
       "    </tr>\n",
       "  </tbody>\n",
       "</table>\n",
       "<p>7773 rows × 8 columns</p>\n",
       "</div>"
      ],
      "text/plain": [
       "                 Close  Close(t-1)  Close(t-2)  Close(t-3)  Close(t-4)  \\\n",
       "Date                                                                     \n",
       "1993-02-09   44.656250   44.968750   44.968750   45.000000   44.812500   \n",
       "1993-02-10   44.718750   44.656250   44.968750   44.968750   45.000000   \n",
       "1993-02-11   44.937500   44.718750   44.656250   44.968750   44.968750   \n",
       "1993-02-12   44.593750   44.937500   44.718750   44.656250   44.968750   \n",
       "1993-02-16   43.468750   44.593750   44.937500   44.718750   44.656250   \n",
       "...                ...         ...         ...         ...         ...   \n",
       "2023-12-14  472.010010  470.500000  464.100006  461.989990  460.200012   \n",
       "2023-12-15  469.329987  472.010010  470.500000  464.100006  461.989990   \n",
       "2023-12-18  471.970001  469.329987  472.010010  470.500000  464.100006   \n",
       "2023-12-19  474.839996  471.970001  469.329987  472.010010  470.500000   \n",
       "2023-12-20  468.260010  474.839996  471.970001  469.329987  472.010010   \n",
       "\n",
       "            Close(t-5)  Close(t-6)  Close(t-7)  \n",
       "Date                                            \n",
       "1993-02-09   44.343750   44.250000   43.937500  \n",
       "1993-02-10   44.812500   44.343750   44.250000  \n",
       "1993-02-11   45.000000   44.812500   44.343750  \n",
       "1993-02-12   44.968750   45.000000   44.812500  \n",
       "1993-02-16   44.968750   44.968750   45.000000  \n",
       "...                ...         ...         ...  \n",
       "2023-12-14  458.230011  454.760010  456.600006  \n",
       "2023-12-15  460.200012  458.230011  454.760010  \n",
       "2023-12-18  461.989990  460.200012  458.230011  \n",
       "2023-12-19  464.100006  461.989990  460.200012  \n",
       "2023-12-20  470.500000  464.100006  461.989990  \n",
       "\n",
       "[7773 rows x 8 columns]"
      ]
     },
     "execution_count": 7,
     "metadata": {},
     "output_type": "execute_result"
    }
   ],
   "source": [
    "from copy import deepcopy as dc\n",
    "\n",
    "def prepare_dataframe_for_lstm(df, n_steps):\n",
    "    df = dc(df)\n",
    "    \n",
    "    df.set_index('Date', inplace=True)\n",
    "    \n",
    "    for i in range(1, n_steps+1):\n",
    "        df[f'Close(t-{i})'] = df['Close'].shift(i)\n",
    "        \n",
    "    df.dropna(inplace=True)\n",
    "    \n",
    "    return df\n",
    "\n",
    "lookback = 7\n",
    "shifted_df = prepare_dataframe_for_lstm(data, lookback)\n",
    "shifted_df"
   ]
  },
  {
   "cell_type": "code",
   "execution_count": 8,
   "metadata": {},
   "outputs": [
    {
     "data": {
      "text/plain": [
       "array([[ 44.65625   ,  44.96875   ,  44.96875   , ...,  44.34375   ,\n",
       "         44.25      ,  43.9375    ],\n",
       "       [ 44.71875   ,  44.65625   ,  44.96875   , ...,  44.8125    ,\n",
       "         44.34375   ,  44.25      ],\n",
       "       [ 44.9375    ,  44.71875   ,  44.65625   , ...,  45.        ,\n",
       "         44.8125    ,  44.34375   ],\n",
       "       ...,\n",
       "       [471.97000122, 469.32998657, 472.01000977, ..., 461.98999023,\n",
       "        460.20001221, 458.23001099],\n",
       "       [474.83999634, 471.97000122, 469.32998657, ..., 464.1000061 ,\n",
       "        461.98999023, 460.20001221],\n",
       "       [468.26000977, 474.83999634, 471.97000122, ..., 470.5       ,\n",
       "        464.1000061 , 461.98999023]])"
      ]
     },
     "execution_count": 8,
     "metadata": {},
     "output_type": "execute_result"
    }
   ],
   "source": [
    "shifted_df_as_np = shifted_df.to_numpy()\n",
    "\n",
    "shifted_df_as_np"
   ]
  },
  {
   "cell_type": "code",
   "execution_count": 9,
   "metadata": {},
   "outputs": [
    {
     "data": {
      "text/plain": [
       "(7773, 8)"
      ]
     },
     "execution_count": 9,
     "metadata": {},
     "output_type": "execute_result"
    }
   ],
   "source": [
    "shifted_df_as_np.shape"
   ]
  },
  {
   "cell_type": "code",
   "execution_count": 10,
   "metadata": {},
   "outputs": [
    {
     "data": {
      "text/plain": [
       "array([[-0.99424366, -0.99280457, -0.99280457, ..., -0.99568274,\n",
       "        -0.99611447, -0.99755356],\n",
       "       [-0.99395584, -0.99424366, -0.99280457, ..., -0.99352412,\n",
       "        -0.99568274, -0.99611447],\n",
       "       [-0.99294848, -0.99395584, -0.99424366, ..., -0.99266067,\n",
       "        -0.99352412, -0.99568274],\n",
       "       ...,\n",
       "       [ 0.97356693,  0.96140947,  0.97375117, ...,  0.92760826,\n",
       "         0.91936528,  0.91029329],\n",
       "       [ 0.98678347,  0.97356693,  0.96140947, ...,  0.93732504,\n",
       "         0.92760826,  0.91936528],\n",
       "       [ 0.95648215,  0.98678347,  0.97356693, ...,  0.96679747,\n",
       "         0.93732504,  0.92760826]])"
      ]
     },
     "execution_count": 10,
     "metadata": {},
     "output_type": "execute_result"
    }
   ],
   "source": [
    "from sklearn.preprocessing import MinMaxScaler\n",
    "\n",
    "scaler = MinMaxScaler(feature_range=(-1, 1))\n",
    "shifted_df_as_np = scaler.fit_transform(shifted_df_as_np)\n",
    "\n",
    "shifted_df_as_np"
   ]
  },
  {
   "cell_type": "code",
   "execution_count": 11,
   "metadata": {},
   "outputs": [
    {
     "data": {
      "text/plain": [
       "((7773, 7), (7773,))"
      ]
     },
     "execution_count": 11,
     "metadata": {},
     "output_type": "execute_result"
    }
   ],
   "source": [
    "X = shifted_df_as_np[:, 1:]\n",
    "y = shifted_df_as_np[:, 0]\n",
    "\n",
    "X.shape, y.shape"
   ]
  },
  {
   "cell_type": "code",
   "execution_count": 12,
   "metadata": {},
   "outputs": [
    {
     "data": {
      "text/plain": [
       "array([[-0.99755356, -0.99611447, -0.99568274, ..., -0.99266067,\n",
       "        -0.99280457, -0.99280457],\n",
       "       [-0.99611447, -0.99568274, -0.99352412, ..., -0.99280457,\n",
       "        -0.99280457, -0.99424366],\n",
       "       [-0.99568274, -0.99352412, -0.99266067, ..., -0.99280457,\n",
       "        -0.99424366, -0.99395584],\n",
       "       ...,\n",
       "       [ 0.91029329,  0.91936528,  0.92760826, ...,  0.96679747,\n",
       "         0.97375117,  0.96140947],\n",
       "       [ 0.91936528,  0.92760826,  0.93732504, ...,  0.97375117,\n",
       "         0.96140947,  0.97356693],\n",
       "       [ 0.92760826,  0.93732504,  0.96679747, ...,  0.96140947,\n",
       "         0.97356693,  0.98678347]])"
      ]
     },
     "execution_count": 12,
     "metadata": {},
     "output_type": "execute_result"
    }
   ],
   "source": [
    "X = dc(np.flip(X, axis=1))\n",
    "X"
   ]
  },
  {
   "cell_type": "code",
   "execution_count": 13,
   "metadata": {},
   "outputs": [
    {
     "data": {
      "text/plain": [
       "7384"
      ]
     },
     "execution_count": 13,
     "metadata": {},
     "output_type": "execute_result"
    }
   ],
   "source": [
    "split_index = int(len(X) * 0.95)\n",
    "\n",
    "split_index"
   ]
  },
  {
   "cell_type": "code",
   "execution_count": 14,
   "metadata": {},
   "outputs": [
    {
     "data": {
      "text/plain": [
       "((7384, 7), (389, 7), (7384,), (389,))"
      ]
     },
     "execution_count": 14,
     "metadata": {},
     "output_type": "execute_result"
    }
   ],
   "source": [
    "X_train = X[:split_index]\n",
    "X_test = X[split_index:]\n",
    "\n",
    "y_train = y[:split_index]\n",
    "y_test = y[split_index:]\n",
    "\n",
    "X_train.shape, X_test.shape, y_train.shape, y_test.shape"
   ]
  },
  {
   "cell_type": "code",
   "execution_count": 15,
   "metadata": {},
   "outputs": [
    {
     "data": {
      "text/plain": [
       "((7384, 7, 1), (389, 7, 1), (7384, 1), (389, 1))"
      ]
     },
     "execution_count": 15,
     "metadata": {},
     "output_type": "execute_result"
    }
   ],
   "source": [
    "X_train = X_train.reshape((-1, lookback, 1))\n",
    "X_test = X_test.reshape((-1, lookback, 1))\n",
    "\n",
    "y_train = y_train.reshape((-1, 1))\n",
    "y_test = y_test.reshape((-1, 1))\n",
    "\n",
    "X_train.shape, X_test.shape, y_train.shape, y_test.shape"
   ]
  },
  {
   "cell_type": "code",
   "execution_count": 16,
   "metadata": {},
   "outputs": [
    {
     "data": {
      "text/plain": [
       "(torch.Size([7384, 7, 1]),\n",
       " torch.Size([389, 7, 1]),\n",
       " torch.Size([7384, 1]),\n",
       " torch.Size([389, 1]))"
      ]
     },
     "execution_count": 16,
     "metadata": {},
     "output_type": "execute_result"
    }
   ],
   "source": [
    "X_train = torch.tensor(X_train).float()\n",
    "y_train = torch.tensor(y_train).float()\n",
    "X_test = torch.tensor(X_test).float()\n",
    "y_test = torch.tensor(y_test).float()\n",
    "\n",
    "X_train.shape, X_test.shape, y_train.shape, y_test.shape"
   ]
  },
  {
   "cell_type": "code",
   "execution_count": 17,
   "metadata": {},
   "outputs": [],
   "source": [
    "from torch.utils.data import Dataset\n",
    "\n",
    "class TimeSeriesDataset(Dataset):\n",
    "    def __init__(self, X, y):\n",
    "        self.X = X\n",
    "        self.y = y\n",
    "\n",
    "    def __len__(self):\n",
    "        return len(self.X)\n",
    "\n",
    "    def __getitem__(self, i):\n",
    "        return self.X[i], self.y[i]\n",
    "    \n",
    "train_dataset = TimeSeriesDataset(X_train, y_train)\n",
    "test_dataset = TimeSeriesDataset(X_test, y_test)"
   ]
  },
  {
   "cell_type": "code",
   "execution_count": 18,
   "metadata": {},
   "outputs": [
    {
     "data": {
      "text/plain": [
       "<__main__.TimeSeriesDataset at 0x16b9edb90>"
      ]
     },
     "execution_count": 18,
     "metadata": {},
     "output_type": "execute_result"
    }
   ],
   "source": [
    "train_dataset"
   ]
  },
  {
   "cell_type": "code",
   "execution_count": 19,
   "metadata": {},
   "outputs": [],
   "source": [
    "from torch.utils.data import DataLoader\n",
    "\n",
    "batch_size = 32\n",
    "\n",
    "train_loader = DataLoader(train_dataset, batch_size=batch_size, shuffle=True)\n",
    "test_loader = DataLoader(test_dataset, batch_size=batch_size, shuffle=False)"
   ]
  },
  {
   "cell_type": "code",
   "execution_count": 20,
   "metadata": {},
   "outputs": [
    {
     "name": "stdout",
     "output_type": "stream",
     "text": [
      "torch.Size([32, 7, 1]) torch.Size([32, 1])\n"
     ]
    }
   ],
   "source": [
    "for _, batch in enumerate(train_loader):\n",
    "    x_batch, y_batch = batch[0].to(device), batch[1].to(device)\n",
    "    print(x_batch.shape, y_batch.shape)\n",
    "    break"
   ]
  },
  {
   "cell_type": "code",
   "execution_count": 21,
   "metadata": {},
   "outputs": [
    {
     "data": {
      "text/plain": [
       "LSTM(\n",
       "  (lstm): LSTM(1, 4, batch_first=True)\n",
       "  (fc): Linear(in_features=4, out_features=1, bias=True)\n",
       ")"
      ]
     },
     "execution_count": 21,
     "metadata": {},
     "output_type": "execute_result"
    }
   ],
   "source": [
    "class LSTM(nn.Module):\n",
    "    def __init__(self, input_size, hidden_size, num_stacked_layers):\n",
    "        super().__init__()\n",
    "        self.hidden_size = hidden_size\n",
    "        self.num_stacked_layers = num_stacked_layers\n",
    "\n",
    "        self.lstm = nn.LSTM(input_size, hidden_size, num_stacked_layers, \n",
    "                            batch_first=True)\n",
    "        \n",
    "        self.fc = nn.Linear(hidden_size, 1)\n",
    "\n",
    "    def forward(self, x):\n",
    "        batch_size = x.size(0)\n",
    "        h0 = torch.zeros(self.num_stacked_layers, batch_size, self.hidden_size).to(device)\n",
    "        c0 = torch.zeros(self.num_stacked_layers, batch_size, self.hidden_size).to(device)\n",
    "        \n",
    "        out, _ = self.lstm(x, (h0, c0))\n",
    "        out = self.fc(out[:, -1, :])\n",
    "        return out\n",
    "\n",
    "model = LSTM(1, 4, 1)\n",
    "model.to(device)\n",
    "model"
   ]
  },
  {
   "cell_type": "code",
   "execution_count": 22,
   "metadata": {},
   "outputs": [],
   "source": [
    "def train_one_epoch():\n",
    "    model.train(True)\n",
    "    print(f'Epoch: {epoch + 1}')\n",
    "    running_loss = 0.0\n",
    "    \n",
    "    for batch_index, batch in enumerate(train_loader):\n",
    "        x_batch, y_batch = batch[0].to(device), batch[1].to(device)\n",
    "        \n",
    "        output = model(x_batch)\n",
    "        loss = loss_function(output, y_batch)\n",
    "        running_loss += loss.item()\n",
    "        \n",
    "        optimizer.zero_grad()\n",
    "        loss.backward()\n",
    "        optimizer.step()\n",
    "\n",
    "        if batch_index % 100 == 99:  # print every 100 batches\n",
    "            avg_loss_across_batches = running_loss / 100\n",
    "            print('Batch {0}, Loss: {1:.3f}'.format(batch_index+1,\n",
    "                                                    avg_loss_across_batches))\n",
    "            running_loss = 0.0\n",
    "    print()"
   ]
  },
  {
   "cell_type": "code",
   "execution_count": 23,
   "metadata": {},
   "outputs": [],
   "source": [
    "def validate_one_epoch():\n",
    "    model.train(False)\n",
    "    running_loss = 0.0\n",
    "    \n",
    "    for batch_index, batch in enumerate(test_loader):\n",
    "        x_batch, y_batch = batch[0].to(device), batch[1].to(device)\n",
    "        \n",
    "        with torch.no_grad():\n",
    "            output = model(x_batch)\n",
    "            loss = loss_function(output, y_batch)\n",
    "            running_loss += loss.item()\n",
    "\n",
    "    avg_loss_across_batches = running_loss / len(test_loader)\n",
    "    \n",
    "    print('Val Loss: {0:.3f}'.format(avg_loss_across_batches))\n",
    "    print('***************************************************')\n",
    "    print()"
   ]
  },
  {
   "cell_type": "code",
   "execution_count": 24,
   "metadata": {},
   "outputs": [
    {
     "name": "stdout",
     "output_type": "stream",
     "text": [
      "Epoch: 1\n",
      "Batch 100, Loss: 0.582\n",
      "Batch 200, Loss: 0.201\n",
      "\n",
      "Val Loss: 0.842\n",
      "***************************************************\n",
      "\n",
      "Epoch: 2\n",
      "Batch 100, Loss: 0.065\n",
      "Batch 200, Loss: 0.026\n",
      "\n",
      "Val Loss: 0.215\n",
      "***************************************************\n",
      "\n",
      "Epoch: 3\n",
      "Batch 100, Loss: 0.012\n",
      "Batch 200, Loss: 0.009\n",
      "\n",
      "Val Loss: 0.102\n",
      "***************************************************\n",
      "\n",
      "Epoch: 4\n",
      "Batch 100, Loss: 0.006\n",
      "Batch 200, Loss: 0.005\n",
      "\n",
      "Val Loss: 0.039\n",
      "***************************************************\n",
      "\n",
      "Epoch: 5\n",
      "Batch 100, Loss: 0.003\n",
      "Batch 200, Loss: 0.002\n",
      "\n",
      "Val Loss: 0.016\n",
      "***************************************************\n",
      "\n",
      "Epoch: 6\n",
      "Batch 100, Loss: 0.002\n",
      "Batch 200, Loss: 0.001\n",
      "\n",
      "Val Loss: 0.008\n",
      "***************************************************\n",
      "\n",
      "Epoch: 7\n",
      "Batch 100, Loss: 0.001\n",
      "Batch 200, Loss: 0.001\n",
      "\n",
      "Val Loss: 0.004\n",
      "***************************************************\n",
      "\n",
      "Epoch: 8\n",
      "Batch 100, Loss: 0.001\n",
      "Batch 200, Loss: 0.001\n",
      "\n",
      "Val Loss: 0.003\n",
      "***************************************************\n",
      "\n",
      "Epoch: 9\n",
      "Batch 100, Loss: 0.000\n",
      "Batch 200, Loss: 0.000\n",
      "\n",
      "Val Loss: 0.002\n",
      "***************************************************\n",
      "\n",
      "Epoch: 10\n",
      "Batch 100, Loss: 0.000\n",
      "Batch 200, Loss: 0.000\n",
      "\n",
      "Val Loss: 0.001\n",
      "***************************************************\n",
      "\n",
      "Epoch: 11\n",
      "Batch 100, Loss: 0.000\n",
      "Batch 200, Loss: 0.000\n",
      "\n",
      "Val Loss: 0.001\n",
      "***************************************************\n",
      "\n",
      "Epoch: 12\n",
      "Batch 100, Loss: 0.000\n",
      "Batch 200, Loss: 0.000\n",
      "\n",
      "Val Loss: 0.001\n",
      "***************************************************\n",
      "\n",
      "Epoch: 13\n",
      "Batch 100, Loss: 0.000\n",
      "Batch 200, Loss: 0.000\n",
      "\n",
      "Val Loss: 0.001\n",
      "***************************************************\n",
      "\n",
      "Epoch: 14\n",
      "Batch 100, Loss: 0.000\n",
      "Batch 200, Loss: 0.000\n",
      "\n",
      "Val Loss: 0.001\n",
      "***************************************************\n",
      "\n",
      "Epoch: 15\n",
      "Batch 100, Loss: 0.000\n",
      "Batch 200, Loss: 0.000\n",
      "\n",
      "Val Loss: 0.001\n",
      "***************************************************\n",
      "\n",
      "Epoch: 16\n",
      "Batch 100, Loss: 0.000\n",
      "Batch 200, Loss: 0.000\n",
      "\n",
      "Val Loss: 0.001\n",
      "***************************************************\n",
      "\n",
      "Epoch: 17\n",
      "Batch 100, Loss: 0.000\n",
      "Batch 200, Loss: 0.000\n",
      "\n",
      "Val Loss: 0.001\n",
      "***************************************************\n",
      "\n",
      "Epoch: 18\n",
      "Batch 100, Loss: 0.000\n",
      "Batch 200, Loss: 0.000\n",
      "\n",
      "Val Loss: 0.001\n",
      "***************************************************\n",
      "\n",
      "Epoch: 19\n",
      "Batch 100, Loss: 0.000\n",
      "Batch 200, Loss: 0.000\n",
      "\n",
      "Val Loss: 0.001\n",
      "***************************************************\n",
      "\n",
      "Epoch: 20\n",
      "Batch 100, Loss: 0.000\n",
      "Batch 200, Loss: 0.000\n",
      "\n",
      "Val Loss: 0.001\n",
      "***************************************************\n",
      "\n",
      "Epoch: 21\n",
      "Batch 100, Loss: 0.000\n",
      "Batch 200, Loss: 0.000\n",
      "\n",
      "Val Loss: 0.001\n",
      "***************************************************\n",
      "\n",
      "Epoch: 22\n",
      "Batch 100, Loss: 0.000\n",
      "Batch 200, Loss: 0.000\n",
      "\n",
      "Val Loss: 0.001\n",
      "***************************************************\n",
      "\n",
      "Epoch: 23\n",
      "Batch 100, Loss: 0.000\n",
      "Batch 200, Loss: 0.000\n",
      "\n",
      "Val Loss: 0.001\n",
      "***************************************************\n",
      "\n",
      "Epoch: 24\n",
      "Batch 100, Loss: 0.000\n",
      "Batch 200, Loss: 0.000\n",
      "\n",
      "Val Loss: 0.001\n",
      "***************************************************\n",
      "\n",
      "Epoch: 25\n",
      "Batch 100, Loss: 0.000\n",
      "Batch 200, Loss: 0.000\n",
      "\n",
      "Val Loss: 0.001\n",
      "***************************************************\n",
      "\n"
     ]
    }
   ],
   "source": [
    "# learning_rate = 0.001\n",
    "num_epochs = 25\n",
    "loss_function = nn.MSELoss()\n",
    "# optimizer = torch.optim.Adam(model.parameters(), lr=learning_rate)\n",
    "optimizer = torch.optim.Adam(model.parameters())\n",
    "\n",
    "\n",
    "for epoch in range(num_epochs):\n",
    "    train_one_epoch()\n",
    "    validate_one_epoch()"
   ]
  },
  {
   "cell_type": "code",
   "execution_count": 25,
   "metadata": {},
   "outputs": [
    {
     "data": {
      "image/png": "[encoded data removed]",
      "text/plain": [
       "<Figure size 640x480 with 1 Axes>"
      ]
     },
     "metadata": {},
     "output_type": "display_data"
    }
   ],
   "source": [
    "with torch.no_grad():\n",
    "    predicted = model(X_train.to(device)).to('cpu').numpy()\n",
    "\n",
    "plt.plot(y_train, label='Actual Close')\n",
    "plt.plot(predicted, label='Predicted Close')\n",
    "plt.xlabel('Day')\n",
    "plt.ylabel('Close')\n",
    "plt.legend()\n",
    "plt.show()\n"
   ]
  },
  {
   "cell_type": "code",
   "execution_count": 26,
   "metadata": {},
   "outputs": [
    {
     "data": {
      "text/plain": [
       "array([ 46.44464148,  46.39680319,  46.3476188 , ..., 411.53635744,\n",
       "       411.8135503 , 414.39105818])"
      ]
     },
     "execution_count": 26,
     "metadata": {},
     "output_type": "execute_result"
    }
   ],
   "source": [
    "train_predictions = predicted.flatten()\n",
    "\n",
    "dummies = np.zeros((X_train.shape[0], lookback+1))\n",
    "dummies[:, 0] = train_predictions\n",
    "dummies = scaler.inverse_transform(dummies)\n",
    "\n",
    "train_predictions = dc(dummies[:, 0])\n",
    "train_predictions"
   ]
  },
  {
   "cell_type": "code",
   "execution_count": 27,
   "metadata": {},
   "outputs": [
    {
     "data": {
      "text/plain": [
       "array([ 44.65624535,  44.71874835,  44.93750239, ..., 409.59000176,\n",
       "       417.39001154, 410.54001116])"
      ]
     },
     "execution_count": 27,
     "metadata": {},
     "output_type": "execute_result"
    }
   ],
   "source": [
    "dummies = np.zeros((X_train.shape[0], lookback+1))\n",
    "dummies[:, 0] = y_train.flatten()\n",
    "dummies = scaler.inverse_transform(dummies)\n",
    "\n",
    "new_y_train = dc(dummies[:, 0])\n",
    "new_y_train"
   ]
  },
  {
   "cell_type": "code",
   "execution_count": 28,
   "metadata": {},
   "outputs": [
    {
     "data": {
      "image/png": "[encoded data removed]",
      "text/plain": [
       "<Figure size 640x480 with 1 Axes>"
      ]
     },
     "metadata": {},
     "output_type": "display_data"
    }
   ],
   "source": [
    "plt.plot(new_y_train, label='Actual Close')\n",
    "plt.plot(train_predictions, label='Predicted Close')\n",
    "plt.xlabel('Day')\n",
    "plt.ylabel('Close')\n",
    "plt.legend()\n",
    "plt.show()\n"
   ]
  },
  {
   "cell_type": "code",
   "execution_count": 29,
   "metadata": {},
   "outputs": [
    {
     "data": {
      "text/plain": [
       "array([413.51846241, 413.06298908, 414.30643514, 413.56973066,\n",
       "       408.98863201, 400.78180261, 388.89952741, 380.44194824,\n",
       "       378.46402394, 373.62963863, 369.7574035 , 371.45778547,\n",
       "       373.57123864, 376.5074172 , 383.31187024, 387.45172022,\n",
       "       386.01763289, 383.74464109, 380.86932174, 380.83330065,\n",
       "       381.79647335, 383.16035644, 386.37823211, 388.48795763,\n",
       "       387.67113437, 385.09472667, 382.32052007, 380.29047326,\n",
       "       382.35149329, 383.15816903, 387.66862337, 392.00376126,\n",
       "       396.18412364, 397.03439228, 397.06539139, 394.95679194,\n",
       "       397.47617163, 401.87113327, 407.24373817, 410.0373726 ,\n",
       "       410.1400256 , 412.21316051, 413.59319679, 414.1197545 ,\n",
       "       414.0732882 , 413.28215731, 416.08354475, 418.26751281,\n",
       "       422.29579188, 425.53136099, 427.67706876, 427.61556239,\n",
       "       427.72371627, 425.5629296 , 420.59407676, 416.7487895 ,\n",
       "       415.0644054 , 416.76370013, 412.78175793, 408.48926809,\n",
       "       403.87447812, 399.86969107, 398.14479457, 395.86437334,\n",
       "       393.83916731, 395.52032854, 398.30280589, 402.71571982,\n",
       "       407.28496245, 402.82952991, 399.14393659, 395.01761232,\n",
       "       390.74990882, 389.4629993 , 387.45900728, 383.36827697,\n",
       "       379.06903075, 373.78702867, 368.92376694, 365.77841883,\n",
       "       367.4764063 , 366.36623699, 362.56506683, 363.59683234,\n",
       "       370.32703638, 375.34236847, 376.11999953, 370.95851215,\n",
       "       365.23959091, 360.82679347, 358.25631378, 361.35036775,\n",
       "       360.97113023, 363.7602863 , 367.88987874, 369.57078757,\n",
       "       368.58352747, 371.07428961, 375.34252379, 380.84888433,\n",
       "       383.06627188, 382.71412461, 385.64626487, 386.93134939,\n",
       "       386.74988488, 382.19185112, 376.86120827, 375.78573984,\n",
       "       377.77721573, 380.59225832, 379.02912668, 385.65346132,\n",
       "       392.75053559, 395.76006361, 397.97984566, 397.75883949,\n",
       "       396.72680865, 396.66408561, 396.26649454, 398.16638392,\n",
       "       400.71224553, 402.33467024, 400.49984663, 398.45121331,\n",
       "       402.19243676, 405.3744596 , 407.08817312, 404.80909799,\n",
       "       400.35133566, 396.94112315, 396.39793335, 395.51330035,\n",
       "       397.28149206, 399.99238023, 400.7591519 , 396.8488377 ,\n",
       "       390.91158308, 385.52123297, 382.7125973 , 384.09907933,\n",
       "       383.55755921, 383.71958294, 383.21530058, 380.81593079,\n",
       "       381.83693398, 382.76281715, 382.69310475, 383.59381328,\n",
       "       382.47270692, 385.04740611, 387.22276689, 389.61891381,\n",
       "       393.02467384, 395.78934126, 397.93159319, 398.73340226,\n",
       "       396.38681509, 393.18907913, 394.07126586, 397.38709612,\n",
       "       399.71913507, 400.93545205, 403.13911974, 404.9675235 ,\n",
       "       403.97595328, 405.24422451, 408.04429175, 412.39027608,\n",
       "       413.46384185, 412.58903279, 413.76798258, 412.9753891 ,\n",
       "       410.87516394, 409.71793294, 411.06895043, 412.2544754 ,\n",
       "       413.50497553, 411.97048733, 410.19548747, 405.74864925,\n",
       "       402.42920781, 401.47359398, 399.67080493, 399.04722455,\n",
       "       398.23666583, 397.13182914, 397.66144146, 400.86639976,\n",
       "       403.3937525 , 402.28140873, 401.16483251, 397.41388867,\n",
       "       392.40176651, 388.89730117, 389.80523204, 390.31197361,\n",
       "       393.37670463, 393.08302206, 393.806162  , 396.45865018,\n",
       "       395.67726557, 395.02414867, 395.60548225, 396.54931772,\n",
       "       396.84569249, 399.21896867, 401.92825187, 405.89498575,\n",
       "       409.03487827, 409.8442721 , 409.47307235, 409.63129076,\n",
       "       409.98620789, 410.30685128, 409.82947796, 411.55489219,\n",
       "       412.51225337, 413.59868473, 414.32530641, 414.66999837,\n",
       "       413.9210884 , 413.41908406, 413.30962291, 410.73338347,\n",
       "       408.12003571, 409.69941113, 412.74766538, 414.72052886,\n",
       "       413.86488877, 411.73392336, 409.03562898, 410.32515305,\n",
       "       411.81022388, 412.11137471, 412.81409019, 412.95633662,\n",
       "       412.7660707 , 413.14240893, 412.36480375, 413.7041723 ,\n",
       "       416.35360588, 417.93853397, 418.79606378, 417.31142007,\n",
       "       414.88558131, 414.63820973, 416.93048698, 418.80790686,\n",
       "       418.99562296, 420.35100233, 423.60280229, 425.50674291,\n",
       "       426.84787175, 426.94545099, 427.80577654, 428.6684966 ,\n",
       "       430.66905866, 433.04896178, 434.71413808, 437.60715087,\n",
       "       438.25940058, 437.6121858 , 436.18309456, 435.78163346,\n",
       "       434.41846225, 432.87862848, 433.67448366, 434.49600532,\n",
       "       435.70107461, 438.33551989, 440.2218059 , 441.06274245,\n",
       "       440.1598724 , 439.00121764, 438.63480689, 439.51395195,\n",
       "       441.47985196, 444.05182012, 445.5498601 , 446.9029744 ,\n",
       "       448.82054427, 450.33028496, 450.14419971, 449.88234461,\n",
       "       450.36471403, 451.13413907, 451.65790104, 450.90425383,\n",
       "       451.90102724, 452.87452866, 453.04770948, 450.88192671,\n",
       "       448.92963007, 446.97658272, 447.20697275, 446.83755916,\n",
       "       445.58395265, 444.80940207, 444.26783018, 444.86746554,\n",
       "       443.46222873, 441.30302114, 438.64817728, 437.06196781,\n",
       "       437.26894348, 437.18940715, 438.96153361, 437.94678201,\n",
       "       438.24326033, 439.47318068, 442.64040937, 445.37273158,\n",
       "       446.75205599, 447.72529854, 447.5225812 , 446.20652346,\n",
       "       444.7900519 , 444.13542063, 444.87004125, 444.58386577,\n",
       "       444.55973953, 445.90841429, 444.3389534 , 443.28669224,\n",
       "       442.26650448, 440.20219686, 436.20786796, 433.19788693,\n",
       "       432.12913606, 429.38957857, 427.68320387, 427.67212444,\n",
       "       427.53417517, 427.42848051, 425.16848375, 424.71381291,\n",
       "       424.55973634, 426.49555621, 428.95196694, 431.35213921,\n",
       "       433.42145587, 433.5977819 , 432.66575068, 433.61063456,\n",
       "       434.34642006, 432.6683005 , 429.95254567, 426.1176389 ,\n",
       "       423.37359009, 423.08359635, 420.95923201, 417.56154857,\n",
       "       414.52275585, 414.67247054, 416.3179472 , 419.32840712,\n",
       "       424.39265179, 429.10890397, 432.22667647, 434.2898839 ,\n",
       "       435.4447204 , 434.73385067, 436.57596134, 437.72506397,\n",
       "       441.51397039, 444.30184507, 446.11126106, 447.25192469,\n",
       "       449.03887118, 449.76479393, 450.73516308, 451.37885729,\n",
       "       451.45491189, 451.60321576, 451.5584062 , 452.13968801,\n",
       "       453.45606934, 453.47072111, 453.38495906, 452.64294785,\n",
       "       453.34944276, 454.52179149, 455.89872139, 457.45655923,\n",
       "       460.531839  , 462.90695312, 463.4165681 , 464.4632766 ,\n",
       "       465.95897386])"
      ]
     },
     "execution_count": 29,
     "metadata": {},
     "output_type": "execute_result"
    }
   ],
   "source": [
    "test_predictions = model(X_test.to(device)).detach().cpu().numpy().flatten()\n",
    "\n",
    "dummies = np.zeros((X_test.shape[0], lookback+1))\n",
    "dummies[:, 0] = test_predictions\n",
    "dummies = scaler.inverse_transform(dummies)\n",
    "\n",
    "test_predictions = dc(dummies[:, 0])\n",
    "test_predictions"
   ]
  },
  {
   "cell_type": "code",
   "execution_count": 30,
   "metadata": {},
   "outputs": [
    {
     "data": {
      "text/plain": [
       "array([411.79000651, 415.7399918 , 411.21999828, 401.44000622,\n",
       "       389.79999002, 375.00000629, 373.86999497, 379.20001654,\n",
       "       366.64999208, 365.85998726, 375.07000344, 374.39001633,\n",
       "       378.06000008, 390.07999156, 388.59000229, 380.6499982 ,\n",
       "       380.33999418, 377.24999792, 381.23999082, 381.95998556,\n",
       "       383.25000146, 388.98998786, 388.67001752, 384.23001334,\n",
       "       380.82998717, 378.82998168, 377.91000063, 385.13000999,\n",
       "       381.9500063 , 392.26999117, 394.76999481, 398.79000314,\n",
       "       395.08999103, 395.57000477, 390.89001961, 401.04000771,\n",
       "       406.07000451, 411.98999282, 410.76998701, 408.05999192,\n",
       "       414.45001473, 414.17001318, 413.47000284, 412.9899891 ,\n",
       "       411.35000038, 419.98998892, 419.98998892, 427.10000645,\n",
       "       428.85997919, 429.70000972, 426.64999519, 427.89001128,\n",
       "       422.14001975, 413.35000588, 412.3500096 , 413.67001504,\n",
       "       419.51001401, 405.31000216, 402.63000955, 398.20998977,\n",
       "       395.17999846, 396.42001455, 392.2399887 , 390.76000456,\n",
       "       397.78000172, 400.38000499, 406.60000512, 410.96999921,\n",
       "       393.10000362, 394.60001097, 390.11999918, 385.55999804,\n",
       "       388.54998173, 384.08999316, 377.3900181 , 374.22000661,\n",
       "       367.95001313, 364.3099995 , 363.38000685, 370.52999964,\n",
       "       362.79000775, 357.1799911 , 366.60998446, 377.97000559,\n",
       "       377.08999333, 373.20001299, 362.79000775, 360.01998829,\n",
       "       357.73998772, 356.559996  , 365.9699985 , 357.63000237,\n",
       "       366.82000827, 371.13001035, 368.49999814, 365.41000188,\n",
       "       374.29000376, 378.86998929, 384.92001854, 382.01999051,\n",
       "       379.98001623, 389.01999033, 386.20999562, 384.51999414,\n",
       "       374.86999124, 371.01001338, 376.35000127, 379.95001375,\n",
       "       382.00000612, 374.12999918, 394.69000546, 398.51001454,\n",
       "       395.11999351, 398.48999131, 395.45000781, 394.23999419,\n",
       "       396.0299953 , 394.58999289, 399.89999124, 402.4200181 ,\n",
       "       402.32998478, 395.90999833, 395.23001122, 407.67999075,\n",
       "       407.38000481, 406.91000915, 399.59000016, 393.82999054,\n",
       "       393.16000857, 396.23998675, 393.27999259, 398.95000772,\n",
       "       401.97000683, 399.3999931 , 389.63000618, 383.26998586,\n",
       "       380.01998501, 380.54000637, 386.2300059 , 380.71999535,\n",
       "       382.9100079 , 381.39999541, 376.66000529, 383.44000852,\n",
       "       382.42999416, 380.82000792, 383.76000474, 379.38000552,\n",
       "       388.07998607, 387.85998947, 390.5799897 , 395.51999202,\n",
       "       396.95999442, 398.49999645, 397.76998364, 391.48999149,\n",
       "       388.64001505, 395.8800088 , 400.63000405, 400.20001601,\n",
       "       400.35000251, 404.74999907, 405.67999819, 400.58999644,\n",
       "       406.48000816, 410.79998949, 416.7799957 , 412.3500096 ,\n",
       "       409.82998274, 415.19000679, 410.64999004, 407.08999812,\n",
       "       408.04000753, 412.82998452, 412.64001629, 413.98000612,\n",
       "       408.28000146, 407.26000784, 399.09000202, 398.54000407,\n",
       "       400.66000653, 396.38000694, 397.73001485, 396.26000997,\n",
       "       394.73999233, 397.80999126, 404.18999598, 404.46999752,\n",
       "       398.26999472, 398.92001819, 391.56000158, 385.91000968,\n",
       "       385.35998584, 391.73001131, 389.27999454, 396.10998464,\n",
       "       389.98998413, 393.73999606, 398.9100001 , 392.10998659,\n",
       "       393.17001371, 395.74999375, 396.48998582, 395.60000725,\n",
       "       401.35001173, 403.70001592, 409.39001544, 410.95001481,\n",
       "       408.67000777, 407.6000014 , 409.19000325, 409.60998615,\n",
       "       409.72000386, 408.04998678, 413.47000284, 412.45998848,\n",
       "       413.9399985 , 414.20999491, 414.1400107 , 411.880001  ,\n",
       "       412.20001016, 412.63001115, 406.07998376, 404.35997981,\n",
       "       412.41000161, 415.92999886, 415.51001596, 410.8399971 ,\n",
       "       408.0199843 , 405.13000024, 412.63001115, 412.73999003,\n",
       "       410.92999159, 412.85000774, 412.13000007, 411.58999431,\n",
       "       413.01001232, 410.25000448, 415.23001441, 419.23001246,\n",
       "       418.61999661, 418.79000633, 414.08999795, 411.08999617,\n",
       "       414.64998809, 420.0199914 , 420.17999598, 417.85000207,\n",
       "       421.82001058, 427.92001376, 427.10000645, 428.02999264,\n",
       "       426.54998262, 429.13000148, 429.89999603, 433.79998151,\n",
       "       436.66000192, 437.1799974 , 442.60000052, 439.4599915 ,\n",
       "       437.1799974 , 434.93999797, 436.51001542, 433.20998888,\n",
       "       431.43999806, 436.17000892, 436.39001846, 438.10998358,\n",
       "       443.28000057, 443.79000385, 443.13000113, 439.6600037 ,\n",
       "       438.54998971, 439.6600037 , 442.45999327, 446.01998519,\n",
       "       449.55999272, 449.28000412, 450.83999054, 454.19000396,\n",
       "       455.20001832, 452.17999332, 452.17999332, 454.2000091 ,\n",
       "       455.4399993 , 455.5100094 , 452.4899844 , 456.92000932,\n",
       "       457.7900035 , 456.48001614, 450.13000095, 448.83999799,\n",
       "       446.81000296, 450.70998844, 448.7500035 , 445.75000173,\n",
       "       445.91000631, 445.64998916, 448.10998518, 442.89002014,\n",
       "       439.6400193 , 436.29000589, 436.49999734, 439.33999453,\n",
       "       438.1499912 , 443.0300015 , 436.8900166 , 439.96999478,\n",
       "       442.7600051 , 449.16000715, 451.01001321, 450.35001049,\n",
       "       451.19000218, 449.2399965 , 446.21999739, 444.85000508,\n",
       "       445.51998705, 448.45001756, 445.98999566, 446.51000408,\n",
       "       450.35998974, 443.36999506, 443.62999927, 442.70999234,\n",
       "       438.64001008, 431.39001119, 430.42001739, 432.23001583,\n",
       "       425.88000064, 426.04998448, 428.51998564, 427.48000763,\n",
       "       427.30999791, 421.58999591, 424.66000777, 424.50000319,\n",
       "       429.54000514, 432.29000784, 434.54001241, 436.32000837,\n",
       "       433.66000015, 431.50000302, 436.04000682, 436.0199836 ,\n",
       "       430.20998711, 426.42999859, 421.1899974 , 420.45999753,\n",
       "       423.63000902, 417.54999024, 412.54998297, 410.67999252,\n",
       "       415.58999236, 418.20001371, 422.66000228, 430.76001095,\n",
       "       434.6899989 , 435.69000812, 436.92999833, 437.24999455,\n",
       "       433.84000207, 440.60998722, 440.19000431, 448.73000617,\n",
       "       449.67998969, 450.23001352, 450.79000367, 454.26001405,\n",
       "       453.26998409, 455.01999051, 455.29999206, 454.48001064,\n",
       "       454.92999602, 454.60998686, 456.39998796, 459.1000038 ,\n",
       "       456.69000759, 456.60000016, 454.76001219, 458.23000962,\n",
       "       460.20001264, 461.98998786, 464.10001107, 470.50000018,\n",
       "       472.01001268, 469.32998124, 471.97000506, 474.83999179,\n",
       "       468.2600137 ])"
      ]
     },
     "execution_count": 30,
     "metadata": {},
     "output_type": "execute_result"
    }
   ],
   "source": [
    "dummies = np.zeros((X_test.shape[0], lookback+1))\n",
    "dummies[:, 0] = y_test.flatten()\n",
    "dummies = scaler.inverse_transform(dummies)\n",
    "\n",
    "new_y_test = dc(dummies[:, 0])\n",
    "new_y_test"
   ]
  },
  {
   "cell_type": "code",
   "execution_count": 31,
   "metadata": {},
   "outputs": [
    {
     "data": {
      "image/png": "[encoded data removed]",
      "text/plain": [
       "<Figure size 640x480 with 1 Axes>"
      ]
     },
     "metadata": {},
     "output_type": "display_data"
    }
   ],
   "source": [
    "plt.plot(new_y_test, label='Actual Close')\n",
    "plt.plot(test_predictions, label='Predicted Close')\n",
    "plt.xlabel('Day')\n",
    "plt.ylabel('Close')\n",
    "plt.legend()\n",
    "plt.show()\n"
   ]
  },
  {
   "cell_type": "code",
   "execution_count": 32,
   "metadata": {},
   "outputs": [
    {
     "data": {
      "text/plain": [
       "(0.011438985396708075, 0.13494033071952993)"
      ]
     },
     "execution_count": 32,
     "metadata": {},
     "output_type": "execute_result"
    }
   ],
   "source": [
    "from sklearn.metrics import mean_absolute_percentage_error\n",
    "\n",
    "class Evaluate:\n",
    "\n",
    "  def __init__(self, actual, predictions) -> None:\n",
    "    self.actual = actual\n",
    "    self.predictions = predictions\n",
    "    self.var_ratio = self.compare_var()\n",
    "    self.mape = self.evaluate_model_with_mape()\n",
    "\n",
    "  def compare_var(self):\n",
    "    return abs( 1 - (np.var(self.predictions) / np.var(self.actual)))\n",
    "\n",
    "  def evaluate_model_with_mape(self):\n",
    "    return mean_absolute_percentage_error(self.actual.flatten(), self.predictions.flatten())\n",
    "\n",
    "baseline_evals = Evaluate(new_y_test, test_predictions)\n",
    "baseline_evals.mape, baseline_evals.var_ratio"
   ]
  }
 ],
 "metadata": {
  "kernelspec": {
   "display_name": "MLProject",
   "language": "python",
   "name": "python3"
  },
  "language_info": {
   "codemirror_mode": {
    "name": "ipython",
    "version": 3
   },
   "file_extension": ".py",
   "mimetype": "text/x-python",
   "name": "python",
   "nbconvert_exporter": "python",
   "pygments_lexer": "ipython3",
   "version": "3.11.5"
  }
 },
 "nbformat": 4,
 "nbformat_minor": 2
}
