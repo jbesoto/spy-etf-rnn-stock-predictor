{
 "cells": [
  {
   "cell_type": "code",
   "execution_count": 1,
   "metadata": {},
   "outputs": [],
   "source": [
    "import pandas as pd\n",
    "import numpy as np\n",
    "import matplotlib.pyplot as plt\n",
    "import os\n",
    "import torch\n",
    "import torch.nn as nn\n",
    "import yfinance as yf"
   ]
  },
  {
   "cell_type": "code",
   "execution_count": 2,
   "metadata": {},
   "outputs": [],
   "source": [
    "FILE_PATH = '../data/gspc-etf.csv'\n",
    "\n",
    "\n",
    "if os.path.exists(FILE_PATH):\n",
    "    data = pd.read_csv(FILE_PATH)\n",
    "else:\n",
    "    data = yf.Ticker(\"^GSPC\")\n",
    "    data = data.history(period=\"max\")\n",
    "    data.to_csv(FILE_PATH)"
   ]
  },
  {
   "cell_type": "code",
   "execution_count": 3,
   "metadata": {},
   "outputs": [
    {
     "data": {
      "text/html": [
       "<div>\n",
       "<style scoped>\n",
       "    .dataframe tbody tr th:only-of-type {\n",
       "        vertical-align: middle;\n",
       "    }\n",
       "\n",
       "    .dataframe tbody tr th {\n",
       "        vertical-align: top;\n",
       "    }\n",
       "\n",
       "    .dataframe thead th {\n",
       "        text-align: right;\n",
       "    }\n",
       "</style>\n",
       "<table border=\"1\" class=\"dataframe\">\n",
       "  <thead>\n",
       "    <tr style=\"text-align: right;\">\n",
       "      <th></th>\n",
       "      <th>Date</th>\n",
       "      <th>Open</th>\n",
       "      <th>High</th>\n",
       "      <th>Low</th>\n",
       "      <th>Close</th>\n",
       "      <th>Volume</th>\n",
       "      <th>Dividends</th>\n",
       "      <th>Stock Splits</th>\n",
       "    </tr>\n",
       "  </thead>\n",
       "  <tbody>\n",
       "    <tr>\n",
       "      <th>0</th>\n",
       "      <td>1927-12-30 00:00:00-05:00</td>\n",
       "      <td>17.660000</td>\n",
       "      <td>17.660000</td>\n",
       "      <td>17.660000</td>\n",
       "      <td>17.660000</td>\n",
       "      <td>0</td>\n",
       "      <td>0.0</td>\n",
       "      <td>0.0</td>\n",
       "    </tr>\n",
       "    <tr>\n",
       "      <th>1</th>\n",
       "      <td>1928-01-03 00:00:00-05:00</td>\n",
       "      <td>17.760000</td>\n",
       "      <td>17.760000</td>\n",
       "      <td>17.760000</td>\n",
       "      <td>17.760000</td>\n",
       "      <td>0</td>\n",
       "      <td>0.0</td>\n",
       "      <td>0.0</td>\n",
       "    </tr>\n",
       "    <tr>\n",
       "      <th>2</th>\n",
       "      <td>1928-01-04 00:00:00-05:00</td>\n",
       "      <td>17.719999</td>\n",
       "      <td>17.719999</td>\n",
       "      <td>17.719999</td>\n",
       "      <td>17.719999</td>\n",
       "      <td>0</td>\n",
       "      <td>0.0</td>\n",
       "      <td>0.0</td>\n",
       "    </tr>\n",
       "    <tr>\n",
       "      <th>3</th>\n",
       "      <td>1928-01-05 00:00:00-05:00</td>\n",
       "      <td>17.549999</td>\n",
       "      <td>17.549999</td>\n",
       "      <td>17.549999</td>\n",
       "      <td>17.549999</td>\n",
       "      <td>0</td>\n",
       "      <td>0.0</td>\n",
       "      <td>0.0</td>\n",
       "    </tr>\n",
       "    <tr>\n",
       "      <th>4</th>\n",
       "      <td>1928-01-06 00:00:00-05:00</td>\n",
       "      <td>17.660000</td>\n",
       "      <td>17.660000</td>\n",
       "      <td>17.660000</td>\n",
       "      <td>17.660000</td>\n",
       "      <td>0</td>\n",
       "      <td>0.0</td>\n",
       "      <td>0.0</td>\n",
       "    </tr>\n",
       "    <tr>\n",
       "      <th>...</th>\n",
       "      <td>...</td>\n",
       "      <td>...</td>\n",
       "      <td>...</td>\n",
       "      <td>...</td>\n",
       "      <td>...</td>\n",
       "      <td>...</td>\n",
       "      <td>...</td>\n",
       "      <td>...</td>\n",
       "    </tr>\n",
       "    <tr>\n",
       "      <th>24104</th>\n",
       "      <td>2023-12-14 00:00:00-05:00</td>\n",
       "      <td>4721.040039</td>\n",
       "      <td>4738.569824</td>\n",
       "      <td>4694.339844</td>\n",
       "      <td>4719.549805</td>\n",
       "      <td>6314040000</td>\n",
       "      <td>0.0</td>\n",
       "      <td>0.0</td>\n",
       "    </tr>\n",
       "    <tr>\n",
       "      <th>24105</th>\n",
       "      <td>2023-12-15 00:00:00-05:00</td>\n",
       "      <td>4714.229980</td>\n",
       "      <td>4725.529785</td>\n",
       "      <td>4704.689941</td>\n",
       "      <td>4719.189941</td>\n",
       "      <td>8218980000</td>\n",
       "      <td>0.0</td>\n",
       "      <td>0.0</td>\n",
       "    </tr>\n",
       "    <tr>\n",
       "      <th>24106</th>\n",
       "      <td>2023-12-18 00:00:00-05:00</td>\n",
       "      <td>4725.580078</td>\n",
       "      <td>4749.520020</td>\n",
       "      <td>4725.580078</td>\n",
       "      <td>4740.560059</td>\n",
       "      <td>4060340000</td>\n",
       "      <td>0.0</td>\n",
       "      <td>0.0</td>\n",
       "    </tr>\n",
       "    <tr>\n",
       "      <th>24107</th>\n",
       "      <td>2023-12-19 00:00:00-05:00</td>\n",
       "      <td>4743.720215</td>\n",
       "      <td>4768.689941</td>\n",
       "      <td>4743.720215</td>\n",
       "      <td>4768.370117</td>\n",
       "      <td>4026970000</td>\n",
       "      <td>0.0</td>\n",
       "      <td>0.0</td>\n",
       "    </tr>\n",
       "    <tr>\n",
       "      <th>24108</th>\n",
       "      <td>2023-12-20 00:00:00-05:00</td>\n",
       "      <td>4764.729980</td>\n",
       "      <td>4778.009766</td>\n",
       "      <td>4697.819824</td>\n",
       "      <td>4698.350098</td>\n",
       "      <td>4201320000</td>\n",
       "      <td>0.0</td>\n",
       "      <td>0.0</td>\n",
       "    </tr>\n",
       "  </tbody>\n",
       "</table>\n",
       "<p>24109 rows × 8 columns</p>\n",
       "</div>"
      ],
      "text/plain": [
       "                            Date         Open         High          Low  \\\n",
       "0      1927-12-30 00:00:00-05:00    17.660000    17.660000    17.660000   \n",
       "1      1928-01-03 00:00:00-05:00    17.760000    17.760000    17.760000   \n",
       "2      1928-01-04 00:00:00-05:00    17.719999    17.719999    17.719999   \n",
       "3      1928-01-05 00:00:00-05:00    17.549999    17.549999    17.549999   \n",
       "4      1928-01-06 00:00:00-05:00    17.660000    17.660000    17.660000   \n",
       "...                          ...          ...          ...          ...   \n",
       "24104  2023-12-14 00:00:00-05:00  4721.040039  4738.569824  4694.339844   \n",
       "24105  2023-12-15 00:00:00-05:00  4714.229980  4725.529785  4704.689941   \n",
       "24106  2023-12-18 00:00:00-05:00  4725.580078  4749.520020  4725.580078   \n",
       "24107  2023-12-19 00:00:00-05:00  4743.720215  4768.689941  4743.720215   \n",
       "24108  2023-12-20 00:00:00-05:00  4764.729980  4778.009766  4697.819824   \n",
       "\n",
       "             Close      Volume  Dividends  Stock Splits  \n",
       "0        17.660000           0        0.0           0.0  \n",
       "1        17.760000           0        0.0           0.0  \n",
       "2        17.719999           0        0.0           0.0  \n",
       "3        17.549999           0        0.0           0.0  \n",
       "4        17.660000           0        0.0           0.0  \n",
       "...            ...         ...        ...           ...  \n",
       "24104  4719.549805  6314040000        0.0           0.0  \n",
       "24105  4719.189941  8218980000        0.0           0.0  \n",
       "24106  4740.560059  4060340000        0.0           0.0  \n",
       "24107  4768.370117  4026970000        0.0           0.0  \n",
       "24108  4698.350098  4201320000        0.0           0.0  \n",
       "\n",
       "[24109 rows x 8 columns]"
      ]
     },
     "execution_count": 3,
     "metadata": {},
     "output_type": "execute_result"
    }
   ],
   "source": [
    "data"
   ]
  },
  {
   "cell_type": "code",
   "execution_count": 4,
   "metadata": {},
   "outputs": [
    {
     "data": {
      "text/html": [
       "<div>\n",
       "<style scoped>\n",
       "    .dataframe tbody tr th:only-of-type {\n",
       "        vertical-align: middle;\n",
       "    }\n",
       "\n",
       "    .dataframe tbody tr th {\n",
       "        vertical-align: top;\n",
       "    }\n",
       "\n",
       "    .dataframe thead th {\n",
       "        text-align: right;\n",
       "    }\n",
       "</style>\n",
       "<table border=\"1\" class=\"dataframe\">\n",
       "  <thead>\n",
       "    <tr style=\"text-align: right;\">\n",
       "      <th></th>\n",
       "      <th>Date</th>\n",
       "      <th>Close</th>\n",
       "    </tr>\n",
       "  </thead>\n",
       "  <tbody>\n",
       "    <tr>\n",
       "      <th>0</th>\n",
       "      <td>1927-12-30 00:00:00-05:00</td>\n",
       "      <td>17.660000</td>\n",
       "    </tr>\n",
       "    <tr>\n",
       "      <th>1</th>\n",
       "      <td>1928-01-03 00:00:00-05:00</td>\n",
       "      <td>17.760000</td>\n",
       "    </tr>\n",
       "    <tr>\n",
       "      <th>2</th>\n",
       "      <td>1928-01-04 00:00:00-05:00</td>\n",
       "      <td>17.719999</td>\n",
       "    </tr>\n",
       "    <tr>\n",
       "      <th>3</th>\n",
       "      <td>1928-01-05 00:00:00-05:00</td>\n",
       "      <td>17.549999</td>\n",
       "    </tr>\n",
       "    <tr>\n",
       "      <th>4</th>\n",
       "      <td>1928-01-06 00:00:00-05:00</td>\n",
       "      <td>17.660000</td>\n",
       "    </tr>\n",
       "    <tr>\n",
       "      <th>...</th>\n",
       "      <td>...</td>\n",
       "      <td>...</td>\n",
       "    </tr>\n",
       "    <tr>\n",
       "      <th>24104</th>\n",
       "      <td>2023-12-14 00:00:00-05:00</td>\n",
       "      <td>4719.549805</td>\n",
       "    </tr>\n",
       "    <tr>\n",
       "      <th>24105</th>\n",
       "      <td>2023-12-15 00:00:00-05:00</td>\n",
       "      <td>4719.189941</td>\n",
       "    </tr>\n",
       "    <tr>\n",
       "      <th>24106</th>\n",
       "      <td>2023-12-18 00:00:00-05:00</td>\n",
       "      <td>4740.560059</td>\n",
       "    </tr>\n",
       "    <tr>\n",
       "      <th>24107</th>\n",
       "      <td>2023-12-19 00:00:00-05:00</td>\n",
       "      <td>4768.370117</td>\n",
       "    </tr>\n",
       "    <tr>\n",
       "      <th>24108</th>\n",
       "      <td>2023-12-20 00:00:00-05:00</td>\n",
       "      <td>4698.350098</td>\n",
       "    </tr>\n",
       "  </tbody>\n",
       "</table>\n",
       "<p>24109 rows × 2 columns</p>\n",
       "</div>"
      ],
      "text/plain": [
       "                            Date        Close\n",
       "0      1927-12-30 00:00:00-05:00    17.660000\n",
       "1      1928-01-03 00:00:00-05:00    17.760000\n",
       "2      1928-01-04 00:00:00-05:00    17.719999\n",
       "3      1928-01-05 00:00:00-05:00    17.549999\n",
       "4      1928-01-06 00:00:00-05:00    17.660000\n",
       "...                          ...          ...\n",
       "24104  2023-12-14 00:00:00-05:00  4719.549805\n",
       "24105  2023-12-15 00:00:00-05:00  4719.189941\n",
       "24106  2023-12-18 00:00:00-05:00  4740.560059\n",
       "24107  2023-12-19 00:00:00-05:00  4768.370117\n",
       "24108  2023-12-20 00:00:00-05:00  4698.350098\n",
       "\n",
       "[24109 rows x 2 columns]"
      ]
     },
     "execution_count": 4,
     "metadata": {},
     "output_type": "execute_result"
    }
   ],
   "source": [
    "data = data[['Date', 'Close']]\n",
    "data"
   ]
  },
  {
   "cell_type": "code",
   "execution_count": 5,
   "metadata": {},
   "outputs": [
    {
     "data": {
      "text/plain": [
       "'cpu'"
      ]
     },
     "execution_count": 5,
     "metadata": {},
     "output_type": "execute_result"
    }
   ],
   "source": [
    "device = 'cuda:0' if torch.cuda.is_available() else 'cpu'\n",
    "device"
   ]
  },
  {
   "cell_type": "code",
   "execution_count": 6,
   "metadata": {},
   "outputs": [
    {
     "name": "stderr",
     "output_type": "stream",
     "text": [
      "/var/folders/5t/1wwb4x_d4hd53smqcd96d_500000gn/T/ipykernel_88170/1819287010.py:1: FutureWarning: In a future version of pandas, parsing datetimes with mixed time zones will raise an error unless `utc=True`. Please specify `utc=True` to opt in to the new behaviour and silence this warning. To create a `Series` with mixed offsets and `object` dtype, please use `apply` and `datetime.datetime.strptime`\n",
      "  data['Date'] = pd.to_datetime(data['Date'])\n",
      "/var/folders/5t/1wwb4x_d4hd53smqcd96d_500000gn/T/ipykernel_88170/1819287010.py:1: SettingWithCopyWarning: \n",
      "A value is trying to be set on a copy of a slice from a DataFrame.\n",
      "Try using .loc[row_indexer,col_indexer] = value instead\n",
      "\n",
      "See the caveats in the documentation: https://pandas.pydata.org/pandas-docs/stable/user_guide/indexing.html#returning-a-view-versus-a-copy\n",
      "  data['Date'] = pd.to_datetime(data['Date'])\n"
     ]
    },
    {
     "data": {
      "text/plain": [
       "[<matplotlib.lines.Line2D at 0x1762e0310>]"
      ]
     },
     "execution_count": 6,
     "metadata": {},
     "output_type": "execute_result"
    },
    {
     "data": {
      "image/png": "[encoded data removed]",
      "text/plain": [
       "<Figure size 640x480 with 1 Axes>"
      ]
     },
     "metadata": {},
     "output_type": "display_data"
    }
   ],
   "source": [
    "data['Date'] = pd.to_datetime(data['Date'])\n",
    "\n",
    "plt.plot(data['Date'], data['Close'])"
   ]
  },
  {
   "cell_type": "code",
   "execution_count": 7,
   "metadata": {},
   "outputs": [
    {
     "data": {
      "text/html": [
       "<div>\n",
       "<style scoped>\n",
       "    .dataframe tbody tr th:only-of-type {\n",
       "        vertical-align: middle;\n",
       "    }\n",
       "\n",
       "    .dataframe tbody tr th {\n",
       "        vertical-align: top;\n",
       "    }\n",
       "\n",
       "    .dataframe thead th {\n",
       "        text-align: right;\n",
       "    }\n",
       "</style>\n",
       "<table border=\"1\" class=\"dataframe\">\n",
       "  <thead>\n",
       "    <tr style=\"text-align: right;\">\n",
       "      <th></th>\n",
       "      <th>Close</th>\n",
       "      <th>Close(t-1)</th>\n",
       "      <th>Close(t-2)</th>\n",
       "      <th>Close(t-3)</th>\n",
       "      <th>Close(t-4)</th>\n",
       "      <th>Close(t-5)</th>\n",
       "      <th>Close(t-6)</th>\n",
       "      <th>Close(t-7)</th>\n",
       "    </tr>\n",
       "    <tr>\n",
       "      <th>Date</th>\n",
       "      <th></th>\n",
       "      <th></th>\n",
       "      <th></th>\n",
       "      <th></th>\n",
       "      <th></th>\n",
       "      <th></th>\n",
       "      <th></th>\n",
       "      <th></th>\n",
       "    </tr>\n",
       "  </thead>\n",
       "  <tbody>\n",
       "    <tr>\n",
       "      <th>1928-01-11 00:00:00-05:00</th>\n",
       "      <td>17.350000</td>\n",
       "      <td>17.370001</td>\n",
       "      <td>17.500000</td>\n",
       "      <td>17.660000</td>\n",
       "      <td>17.549999</td>\n",
       "      <td>17.719999</td>\n",
       "      <td>17.760000</td>\n",
       "      <td>17.660000</td>\n",
       "    </tr>\n",
       "    <tr>\n",
       "      <th>1928-01-12 00:00:00-05:00</th>\n",
       "      <td>17.469999</td>\n",
       "      <td>17.350000</td>\n",
       "      <td>17.370001</td>\n",
       "      <td>17.500000</td>\n",
       "      <td>17.660000</td>\n",
       "      <td>17.549999</td>\n",
       "      <td>17.719999</td>\n",
       "      <td>17.760000</td>\n",
       "    </tr>\n",
       "    <tr>\n",
       "      <th>1928-01-13 00:00:00-05:00</th>\n",
       "      <td>17.580000</td>\n",
       "      <td>17.469999</td>\n",
       "      <td>17.350000</td>\n",
       "      <td>17.370001</td>\n",
       "      <td>17.500000</td>\n",
       "      <td>17.660000</td>\n",
       "      <td>17.549999</td>\n",
       "      <td>17.719999</td>\n",
       "    </tr>\n",
       "    <tr>\n",
       "      <th>1928-01-16 00:00:00-05:00</th>\n",
       "      <td>17.290001</td>\n",
       "      <td>17.580000</td>\n",
       "      <td>17.469999</td>\n",
       "      <td>17.350000</td>\n",
       "      <td>17.370001</td>\n",
       "      <td>17.500000</td>\n",
       "      <td>17.660000</td>\n",
       "      <td>17.549999</td>\n",
       "    </tr>\n",
       "    <tr>\n",
       "      <th>1928-01-17 00:00:00-05:00</th>\n",
       "      <td>17.299999</td>\n",
       "      <td>17.290001</td>\n",
       "      <td>17.580000</td>\n",
       "      <td>17.469999</td>\n",
       "      <td>17.350000</td>\n",
       "      <td>17.370001</td>\n",
       "      <td>17.500000</td>\n",
       "      <td>17.660000</td>\n",
       "    </tr>\n",
       "    <tr>\n",
       "      <th>...</th>\n",
       "      <td>...</td>\n",
       "      <td>...</td>\n",
       "      <td>...</td>\n",
       "      <td>...</td>\n",
       "      <td>...</td>\n",
       "      <td>...</td>\n",
       "      <td>...</td>\n",
       "      <td>...</td>\n",
       "    </tr>\n",
       "    <tr>\n",
       "      <th>2023-12-14 00:00:00-05:00</th>\n",
       "      <td>4719.549805</td>\n",
       "      <td>4707.089844</td>\n",
       "      <td>4643.700195</td>\n",
       "      <td>4622.439941</td>\n",
       "      <td>4604.370117</td>\n",
       "      <td>4585.589844</td>\n",
       "      <td>4549.339844</td>\n",
       "      <td>4567.180176</td>\n",
       "    </tr>\n",
       "    <tr>\n",
       "      <th>2023-12-15 00:00:00-05:00</th>\n",
       "      <td>4719.189941</td>\n",
       "      <td>4719.549805</td>\n",
       "      <td>4707.089844</td>\n",
       "      <td>4643.700195</td>\n",
       "      <td>4622.439941</td>\n",
       "      <td>4604.370117</td>\n",
       "      <td>4585.589844</td>\n",
       "      <td>4549.339844</td>\n",
       "    </tr>\n",
       "    <tr>\n",
       "      <th>2023-12-18 00:00:00-05:00</th>\n",
       "      <td>4740.560059</td>\n",
       "      <td>4719.189941</td>\n",
       "      <td>4719.549805</td>\n",
       "      <td>4707.089844</td>\n",
       "      <td>4643.700195</td>\n",
       "      <td>4622.439941</td>\n",
       "      <td>4604.370117</td>\n",
       "      <td>4585.589844</td>\n",
       "    </tr>\n",
       "    <tr>\n",
       "      <th>2023-12-19 00:00:00-05:00</th>\n",
       "      <td>4768.370117</td>\n",
       "      <td>4740.560059</td>\n",
       "      <td>4719.189941</td>\n",
       "      <td>4719.549805</td>\n",
       "      <td>4707.089844</td>\n",
       "      <td>4643.700195</td>\n",
       "      <td>4622.439941</td>\n",
       "      <td>4604.370117</td>\n",
       "    </tr>\n",
       "    <tr>\n",
       "      <th>2023-12-20 00:00:00-05:00</th>\n",
       "      <td>4698.350098</td>\n",
       "      <td>4768.370117</td>\n",
       "      <td>4740.560059</td>\n",
       "      <td>4719.189941</td>\n",
       "      <td>4719.549805</td>\n",
       "      <td>4707.089844</td>\n",
       "      <td>4643.700195</td>\n",
       "      <td>4622.439941</td>\n",
       "    </tr>\n",
       "  </tbody>\n",
       "</table>\n",
       "<p>24102 rows × 8 columns</p>\n",
       "</div>"
      ],
      "text/plain": [
       "                                 Close   Close(t-1)   Close(t-2)   Close(t-3)  \\\n",
       "Date                                                                            \n",
       "1928-01-11 00:00:00-05:00    17.350000    17.370001    17.500000    17.660000   \n",
       "1928-01-12 00:00:00-05:00    17.469999    17.350000    17.370001    17.500000   \n",
       "1928-01-13 00:00:00-05:00    17.580000    17.469999    17.350000    17.370001   \n",
       "1928-01-16 00:00:00-05:00    17.290001    17.580000    17.469999    17.350000   \n",
       "1928-01-17 00:00:00-05:00    17.299999    17.290001    17.580000    17.469999   \n",
       "...                                ...          ...          ...          ...   \n",
       "2023-12-14 00:00:00-05:00  4719.549805  4707.089844  4643.700195  4622.439941   \n",
       "2023-12-15 00:00:00-05:00  4719.189941  4719.549805  4707.089844  4643.700195   \n",
       "2023-12-18 00:00:00-05:00  4740.560059  4719.189941  4719.549805  4707.089844   \n",
       "2023-12-19 00:00:00-05:00  4768.370117  4740.560059  4719.189941  4719.549805   \n",
       "2023-12-20 00:00:00-05:00  4698.350098  4768.370117  4740.560059  4719.189941   \n",
       "\n",
       "                            Close(t-4)   Close(t-5)   Close(t-6)   Close(t-7)  \n",
       "Date                                                                           \n",
       "1928-01-11 00:00:00-05:00    17.549999    17.719999    17.760000    17.660000  \n",
       "1928-01-12 00:00:00-05:00    17.660000    17.549999    17.719999    17.760000  \n",
       "1928-01-13 00:00:00-05:00    17.500000    17.660000    17.549999    17.719999  \n",
       "1928-01-16 00:00:00-05:00    17.370001    17.500000    17.660000    17.549999  \n",
       "1928-01-17 00:00:00-05:00    17.350000    17.370001    17.500000    17.660000  \n",
       "...                                ...          ...          ...          ...  \n",
       "2023-12-14 00:00:00-05:00  4604.370117  4585.589844  4549.339844  4567.180176  \n",
       "2023-12-15 00:00:00-05:00  4622.439941  4604.370117  4585.589844  4549.339844  \n",
       "2023-12-18 00:00:00-05:00  4643.700195  4622.439941  4604.370117  4585.589844  \n",
       "2023-12-19 00:00:00-05:00  4707.089844  4643.700195  4622.439941  4604.370117  \n",
       "2023-12-20 00:00:00-05:00  4719.549805  4707.089844  4643.700195  4622.439941  \n",
       "\n",
       "[24102 rows x 8 columns]"
      ]
     },
     "execution_count": 7,
     "metadata": {},
     "output_type": "execute_result"
    }
   ],
   "source": [
    "from copy import deepcopy as dc\n",
    "\n",
    "def prepare_dataframe_for_lstm(df, n_steps):\n",
    "    df = dc(df)\n",
    "    \n",
    "    df.set_index('Date', inplace=True)\n",
    "    \n",
    "    for i in range(1, n_steps+1):\n",
    "        df[f'Close(t-{i})'] = df['Close'].shift(i)\n",
    "        \n",
    "    df.dropna(inplace=True)\n",
    "    \n",
    "    return df\n",
    "\n",
    "lookback = 7\n",
    "shifted_df = prepare_dataframe_for_lstm(data, lookback)\n",
    "shifted_df"
   ]
  },
  {
   "cell_type": "code",
   "execution_count": 8,
   "metadata": {},
   "outputs": [
    {
     "data": {
      "text/plain": [
       "array([[  17.35000038,   17.37000084,   17.5       , ...,   17.71999931,\n",
       "          17.76000023,   17.65999985],\n",
       "       [  17.46999931,   17.35000038,   17.37000084, ...,   17.54999924,\n",
       "          17.71999931,   17.76000023],\n",
       "       [  17.57999992,   17.46999931,   17.35000038, ...,   17.65999985,\n",
       "          17.54999924,   17.71999931],\n",
       "       ...,\n",
       "       [4740.56005859, 4719.18994141, 4719.54980469, ..., 4622.43994141,\n",
       "        4604.37011719, 4585.58984375],\n",
       "       [4768.37011719, 4740.56005859, 4719.18994141, ..., 4643.70019531,\n",
       "        4622.43994141, 4604.37011719],\n",
       "       [4698.35009766, 4768.37011719, 4740.56005859, ..., 4707.08984375,\n",
       "        4643.70019531, 4622.43994141]])"
      ]
     },
     "execution_count": 8,
     "metadata": {},
     "output_type": "execute_result"
    }
   ],
   "source": [
    "shifted_df_as_np = shifted_df.to_numpy()\n",
    "\n",
    "shifted_df_as_np"
   ]
  },
  {
   "cell_type": "code",
   "execution_count": 9,
   "metadata": {},
   "outputs": [
    {
     "data": {
      "text/plain": [
       "(24102, 8)"
      ]
     },
     "execution_count": 9,
     "metadata": {},
     "output_type": "execute_result"
    }
   ],
   "source": [
    "shifted_df_as_np.shape"
   ]
  },
  {
   "cell_type": "code",
   "execution_count": 10,
   "metadata": {},
   "outputs": [
    {
     "data": {
      "text/plain": [
       "array([[-0.99459534, -0.99458699, -0.99453274, ..., -0.99444092,\n",
       "        -0.99442423, -0.99446596],\n",
       "       [-0.99454526, -0.99459534, -0.99458699, ..., -0.99451187,\n",
       "        -0.99444092, -0.99442423],\n",
       "       [-0.99449935, -0.99454526, -0.99459534, ..., -0.99446596,\n",
       "        -0.99451187, -0.99444092],\n",
       "       ...,\n",
       "       [ 0.97662849,  0.96770971,  0.9678599 , ...,  0.92733126,\n",
       "         0.91978985,  0.91195193],\n",
       "       [ 0.98823498,  0.97662849,  0.96770971, ...,  0.93620419,\n",
       "         0.92733126,  0.91978985],\n",
       "       [ 0.95901224,  0.98823498,  0.97662849, ...,  0.96265976,\n",
       "         0.93620419,  0.92733126]])"
      ]
     },
     "execution_count": 10,
     "metadata": {},
     "output_type": "execute_result"
    }
   ],
   "source": [
    "from sklearn.preprocessing import MinMaxScaler\n",
    "\n",
    "scaler = MinMaxScaler(feature_range=(-1, 1))\n",
    "shifted_df_as_np = scaler.fit_transform(shifted_df_as_np)\n",
    "\n",
    "shifted_df_as_np"
   ]
  },
  {
   "cell_type": "code",
   "execution_count": 11,
   "metadata": {},
   "outputs": [
    {
     "data": {
      "text/plain": [
       "((24102, 7), (24102,))"
      ]
     },
     "execution_count": 11,
     "metadata": {},
     "output_type": "execute_result"
    }
   ],
   "source": [
    "X = shifted_df_as_np[:, 1:]\n",
    "y = shifted_df_as_np[:, 0]\n",
    "\n",
    "X.shape, y.shape"
   ]
  },
  {
   "cell_type": "markdown",
   "metadata": {},
   "source": [
    "flip the Axes of X so the RNN can see the previous days prices in the correct sequence."
   ]
  },
  {
   "cell_type": "code",
   "execution_count": 12,
   "metadata": {},
   "outputs": [
    {
     "data": {
      "text/plain": [
       "array([[-0.99446596, -0.99442423, -0.99444092, ..., -0.99446596,\n",
       "        -0.99453274, -0.99458699],\n",
       "       [-0.99442423, -0.99444092, -0.99451187, ..., -0.99453274,\n",
       "        -0.99458699, -0.99459534],\n",
       "       [-0.99444092, -0.99451187, -0.99446596, ..., -0.99458699,\n",
       "        -0.99459534, -0.99454526],\n",
       "       ...,\n",
       "       [ 0.91195193,  0.91978985,  0.92733126, ...,  0.96265976,\n",
       "         0.9678599 ,  0.96770971],\n",
       "       [ 0.91978985,  0.92733126,  0.93620419, ...,  0.9678599 ,\n",
       "         0.96770971,  0.97662849],\n",
       "       [ 0.92733126,  0.93620419,  0.96265976, ...,  0.96770971,\n",
       "         0.97662849,  0.98823498]])"
      ]
     },
     "execution_count": 12,
     "metadata": {},
     "output_type": "execute_result"
    }
   ],
   "source": [
    "X = dc(np.flip(X, axis=1))\n",
    "X"
   ]
  },
  {
   "cell_type": "markdown",
   "metadata": {},
   "source": [
    "Split training and dataset into 95:5 split. Adding an extra dimension to satisfy pytorch LSTM shape requirement. Wrapped the numpy arrays into tensors."
   ]
  },
  {
   "cell_type": "code",
   "execution_count": 13,
   "metadata": {},
   "outputs": [
    {
     "data": {
      "text/plain": [
       "(torch.Size([22896, 7, 1]),\n",
       " torch.Size([1206, 7, 1]),\n",
       " torch.Size([22896, 1]),\n",
       " torch.Size([1206, 1]))"
      ]
     },
     "execution_count": 13,
     "metadata": {},
     "output_type": "execute_result"
    }
   ],
   "source": [
    "split_index = int(len(X) * 0.95)\n",
    "\n",
    "X_train = X[:split_index]\n",
    "X_test = X[split_index:]\n",
    "\n",
    "y_train = y[:split_index]\n",
    "y_test = y[split_index:]\n",
    "\n",
    "\n",
    "X_train = X_train.reshape((-1, lookback, 1))\n",
    "X_test = X_test.reshape((-1, lookback, 1))\n",
    "\n",
    "y_train = y_train.reshape((-1, 1))\n",
    "y_test = y_test.reshape((-1, 1))\n",
    "\n",
    "X_train = torch.tensor(X_train).float()\n",
    "y_train = torch.tensor(y_train).float()\n",
    "X_test = torch.tensor(X_test).float()\n",
    "y_test = torch.tensor(y_test).float()\n",
    "\n",
    "X_train.shape, X_test.shape, y_train.shape, y_test.shape"
   ]
  },
  {
   "cell_type": "markdown",
   "metadata": {},
   "source": [
    "Create a dataset custom class"
   ]
  },
  {
   "cell_type": "code",
   "execution_count": 14,
   "metadata": {},
   "outputs": [],
   "source": [
    "from torch.utils.data import Dataset\n",
    "\n",
    "class TimeSeriesDataset(Dataset):\n",
    "    def __init__(self, X, y):\n",
    "        self.X = X\n",
    "        self.y = y\n",
    "\n",
    "    def __len__(self):\n",
    "        return len(self.X)\n",
    "\n",
    "    def __getitem__(self, i):\n",
    "        return self.X[i], self.y[i]\n",
    "    \n",
    "train_dataset = TimeSeriesDataset(X_train, y_train)\n",
    "test_dataset = TimeSeriesDataset(X_test, y_test)"
   ]
  },
  {
   "cell_type": "code",
   "execution_count": 15,
   "metadata": {},
   "outputs": [],
   "source": [
    "from torch.utils.data import DataLoader\n",
    "\n",
    "batch_size = 32\n",
    "\n",
    "train_loader = DataLoader(train_dataset, batch_size=batch_size, shuffle=True)\n",
    "test_loader = DataLoader(test_dataset, batch_size=batch_size, shuffle=False)"
   ]
  },
  {
   "cell_type": "markdown",
   "metadata": {},
   "source": [
    "Splitting the data into batches"
   ]
  },
  {
   "cell_type": "code",
   "execution_count": 16,
   "metadata": {},
   "outputs": [
    {
     "name": "stdout",
     "output_type": "stream",
     "text": [
      "torch.Size([32, 7, 1]) torch.Size([32, 1])\n"
     ]
    }
   ],
   "source": [
    "for _, batch in enumerate(train_loader):\n",
    "    x_batch, y_batch = batch[0].to(device), batch[1].to(device)\n",
    "    print(x_batch.shape, y_batch.shape)\n",
    "    break"
   ]
  },
  {
   "cell_type": "markdown",
   "metadata": {},
   "source": [
    "Build the LSTM model"
   ]
  },
  {
   "cell_type": "code",
   "execution_count": 17,
   "metadata": {},
   "outputs": [
    {
     "data": {
      "text/plain": [
       "LSTM(\n",
       "  (lstm): LSTM(1, 200, batch_first=True)\n",
       "  (fc1): Linear(in_features=200, out_features=50, bias=True)\n",
       "  (fc2): Linear(in_features=50, out_features=1, bias=True)\n",
       ")"
      ]
     },
     "execution_count": 17,
     "metadata": {},
     "output_type": "execute_result"
    }
   ],
   "source": [
    "class LSTM(nn.Module):\n",
    "    def __init__(self, input_size, hidden_size, num_stacked_layers):\n",
    "        super().__init__()\n",
    "        self.hidden_size = hidden_size\n",
    "        self.num_stacked_layers = num_stacked_layers\n",
    "\n",
    "        self.lstm = nn.LSTM(input_size, hidden_size, num_stacked_layers, batch_first=True)\n",
    "        \n",
    "        # Add an extra fully connected layer\n",
    "        self.fc1 = nn.Linear(hidden_size, 50)  # Adjust the output size as needed\n",
    "        self.fc2 = nn.Linear(50, 1)  # Adjust the input size to match the output size of fc1\n",
    "\n",
    "    def forward(self, x):\n",
    "        batch_size = x.size(0)\n",
    "        h0 = torch.zeros(self.num_stacked_layers, batch_size, self.hidden_size).to(device)\n",
    "        c0 = torch.zeros(self.num_stacked_layers, batch_size, self.hidden_size).to(device)\n",
    "        \n",
    "        out, _ = self.lstm(x, (h0, c0))\n",
    "        \n",
    "        # Apply the extra fully connected layers\n",
    "        out = self.fc1(out[:, -1, :])\n",
    "        out = self.fc2(out)\n",
    "\n",
    "        return out\n",
    "\n",
    "model = LSTM(1, 200, 1)\n",
    "model.to(device)\n",
    "model"
   ]
  },
  {
   "cell_type": "code",
   "execution_count": 18,
   "metadata": {},
   "outputs": [],
   "source": [
    "# learning_rate = 0.001\n",
    "num_epochs = 25\n",
    "loss_function = nn.MSELoss()\n",
    "# optimizer = torch.optim.Adam(model.parameters(), lr=learning_rate)\n",
    "optimizer = torch.optim.Adam(model.parameters())"
   ]
  },
  {
   "cell_type": "code",
   "execution_count": 19,
   "metadata": {},
   "outputs": [],
   "source": [
    "def train_one_epoch():\n",
    "    model.train(True)\n",
    "    print(f'Epoch: {epoch + 1}')\n",
    "    running_loss = 0.0\n",
    "    \n",
    "    for batch_index, batch in enumerate(train_loader):\n",
    "        x_batch, y_batch = batch[0].to(device), batch[1].to(device)\n",
    "        \n",
    "        output = model(x_batch)\n",
    "        loss = loss_function(output, y_batch)\n",
    "        running_loss += loss.item()\n",
    "        \n",
    "        optimizer.zero_grad()\n",
    "        loss.backward()\n",
    "        optimizer.step()\n",
    "\n",
    "        if batch_index % 100 == 99:  # print every 100 batches\n",
    "            avg_loss_across_batches = running_loss / 100\n",
    "            print('Batch {0}, Loss: {1:.3f}'.format(batch_index+1,\n",
    "                                                    avg_loss_across_batches))\n",
    "            running_loss = 0.0\n",
    "    print()"
   ]
  },
  {
   "cell_type": "code",
   "execution_count": 20,
   "metadata": {},
   "outputs": [],
   "source": [
    "def validate_one_epoch():\n",
    "    model.train(False)\n",
    "    running_loss = 0.0\n",
    "    \n",
    "    for batch_index, batch in enumerate(test_loader):\n",
    "        x_batch, y_batch = batch[0].to(device), batch[1].to(device)\n",
    "        \n",
    "        with torch.no_grad():\n",
    "            output = model(x_batch)\n",
    "            loss = loss_function(output, y_batch)\n",
    "            running_loss += loss.item()\n",
    "\n",
    "    avg_loss_across_batches = running_loss / len(test_loader)\n",
    "    \n",
    "    print('Val Loss: {0:.3f}'.format(avg_loss_across_batches))\n",
    "    print('***************************************************')\n",
    "    print()"
   ]
  },
  {
   "cell_type": "code",
   "execution_count": 21,
   "metadata": {},
   "outputs": [
    {
     "name": "stdout",
     "output_type": "stream",
     "text": [
      "Epoch: 1\n",
      "Batch 100, Loss: 0.055\n",
      "Batch 200, Loss: 0.000\n",
      "Batch 300, Loss: 0.000\n",
      "Batch 400, Loss: 0.000\n",
      "Batch 500, Loss: 0.000\n",
      "Batch 600, Loss: 0.000\n",
      "Batch 700, Loss: 0.000\n",
      "\n",
      "Val Loss: 0.002\n",
      "***************************************************\n",
      "\n",
      "Epoch: 2\n",
      "Batch 100, Loss: 0.000\n",
      "Batch 200, Loss: 0.000\n",
      "Batch 300, Loss: 0.000\n",
      "Batch 400, Loss: 0.000\n",
      "Batch 500, Loss: 0.000\n",
      "Batch 600, Loss: 0.000\n",
      "Batch 700, Loss: 0.000\n",
      "\n",
      "Val Loss: 0.001\n",
      "***************************************************\n",
      "\n",
      "Epoch: 3\n",
      "Batch 100, Loss: 0.000\n",
      "Batch 200, Loss: 0.000\n",
      "Batch 300, Loss: 0.000\n",
      "Batch 400, Loss: 0.000\n",
      "Batch 500, Loss: 0.000\n",
      "Batch 600, Loss: 0.000\n",
      "Batch 700, Loss: 0.000\n",
      "\n",
      "Val Loss: 0.002\n",
      "***************************************************\n",
      "\n",
      "Epoch: 4\n"
     ]
    }
   ],
   "source": [
    "for epoch in range(num_epochs):\n",
    "    train_one_epoch()\n",
    "    validate_one_epoch()"
   ]
  },
  {
   "cell_type": "code",
   "execution_count": null,
   "metadata": {},
   "outputs": [
    {
     "data": {
      "image/png": "[encoded data removed]",
      "text/plain": [
       "<Figure size 640x480 with 1 Axes>"
      ]
     },
     "metadata": {},
     "output_type": "display_data"
    }
   ],
   "source": [
    "with torch.no_grad():\n",
    "    predicted = model(X_train.to(device)).to('cpu').numpy()\n",
    "\n",
    "plt.plot(y_train, label='Actual Close')\n",
    "plt.plot(predicted, label='Predicted Close')\n",
    "plt.title('Plotting Training')\n",
    "plt.xlabel('Day')\n",
    "plt.ylabel('Close')\n",
    "plt.legend()\n",
    "plt.show()\n"
   ]
  },
  {
   "cell_type": "code",
   "execution_count": null,
   "metadata": {},
   "outputs": [
    {
     "data": {
      "text/plain": [
       "array([  19.08877987,   19.02822525,   19.07078486, ..., 2798.58016595,\n",
       "       2784.59119193, 2764.54989793])"
      ]
     },
     "execution_count": 23,
     "metadata": {},
     "output_type": "execute_result"
    }
   ],
   "source": [
    "train_predictions = predicted.flatten()\n",
    "\n",
    "dummies = np.zeros((X_train.shape[0], lookback+1))\n",
    "dummies[:, 0] = train_predictions\n",
    "dummies = scaler.inverse_transform(dummies)\n",
    "\n",
    "train_predictions = dc(dummies[:, 0])\n",
    "train_predictions"
   ]
  },
  {
   "cell_type": "code",
   "execution_count": null,
   "metadata": {},
   "outputs": [
    {
     "data": {
      "text/plain": [
       "array([  17.34997682,   17.46994352,   17.58005581, ..., 2771.44994687,\n",
       "       2748.92994806, 2743.07007467])"
      ]
     },
     "execution_count": 24,
     "metadata": {},
     "output_type": "execute_result"
    }
   ],
   "source": [
    "dummies = np.zeros((X_train.shape[0], lookback+1))\n",
    "dummies[:, 0] = y_train.flatten()\n",
    "dummies = scaler.inverse_transform(dummies)\n",
    "\n",
    "new_y_train = dc(dummies[:, 0])\n",
    "new_y_train"
   ]
  },
  {
   "cell_type": "code",
   "execution_count": null,
   "metadata": {},
   "outputs": [
    {
     "data": {
      "image/png": "[encoded data removed]",
      "text/plain": [
       "<Figure size 640x480 with 1 Axes>"
      ]
     },
     "metadata": {},
     "output_type": "display_data"
    }
   ],
   "source": [
    "plt.plot(new_y_train, label='Actual Close')\n",
    "plt.plot(train_predictions, label='Predicted Close')\n",
    "plt.title('Plotting Testing')\n",
    "plt.xlabel('Day')\n",
    "plt.ylabel('Close')\n",
    "plt.legend()\n",
    "plt.show()\n"
   ]
  },
  {
   "cell_type": "code",
   "execution_count": null,
   "metadata": {},
   "outputs": [
    {
     "data": {
      "text/plain": [
       "array([2754.73280157, 2780.84423202, 2794.3260254 , ..., 4258.28261868,\n",
       "       4266.71285002, 4278.21965591])"
      ]
     },
     "execution_count": 26,
     "metadata": {},
     "output_type": "execute_result"
    }
   ],
   "source": [
    "test_predictions = model(X_test.to(device)).detach().cpu().numpy().flatten()\n",
    "\n",
    "dummies = np.zeros((X_test.shape[0], lookback+1))\n",
    "dummies[:, 0] = test_predictions\n",
    "dummies = scaler.inverse_transform(dummies)\n",
    "\n",
    "test_predictions = dc(dummies[:, 0])\n",
    "test_predictions"
   ]
  },
  {
   "cell_type": "code",
   "execution_count": null,
   "metadata": {},
   "outputs": [
    {
     "data": {
      "text/plain": [
       "array([2783.30005033, 2791.52001859, 2810.9199192 , ..., 4740.56003188,\n",
       "       4768.37016937, 4698.35003442])"
      ]
     },
     "execution_count": 27,
     "metadata": {},
     "output_type": "execute_result"
    }
   ],
   "source": [
    "dummies = np.zeros((X_test.shape[0], lookback+1))\n",
    "dummies[:, 0] = y_test.flatten()\n",
    "dummies = scaler.inverse_transform(dummies)\n",
    "\n",
    "new_y_test = dc(dummies[:, 0])\n",
    "new_y_test"
   ]
  },
  {
   "cell_type": "code",
   "execution_count": null,
   "metadata": {},
   "outputs": [
    {
     "data": {
      "image/png": "[encoded data removed]",
      "text/plain": [
       "<Figure size 640x480 with 1 Axes>"
      ]
     },
     "metadata": {},
     "output_type": "display_data"
    }
   ],
   "source": [
    "plt.plot(new_y_test, label='Actual Close')\n",
    "plt.plot(test_predictions, label='Predicted Close')\n",
    "plt.xlabel('Day')\n",
    "plt.ylabel('Close')\n",
    "plt.legend()\n",
    "plt.show()\n"
   ]
  },
  {
   "cell_type": "code",
   "execution_count": null,
   "metadata": {},
   "outputs": [
    {
     "data": {
      "text/plain": [
       "(0.040567253287392926, 0.3871536136192687)"
      ]
     },
     "execution_count": 29,
     "metadata": {},
     "output_type": "execute_result"
    }
   ],
   "source": [
    "from sklearn.metrics import mean_absolute_percentage_error\n",
    "\n",
    "class Evaluate:\n",
    "\n",
    "  def __init__(self, actual, predictions) -> None:\n",
    "    self.actual = actual\n",
    "    self.predictions = predictions\n",
    "    self.var_ratio = self.compare_var()\n",
    "    self.mape = self.evaluate_model_with_mape()\n",
    "\n",
    "  def compare_var(self):\n",
    "    return abs( 1 - (np.var(self.predictions) / np.var(self.actual)))\n",
    "\n",
    "  def evaluate_model_with_mape(self):\n",
    "    return mean_absolute_percentage_error(self.actual.flatten(), self.predictions.flatten())\n",
    "\n",
    "baseline_evals = Evaluate(new_y_test, test_predictions)\n",
    "baseline_evals.mape, baseline_evals.var_ratio"
   ]
  },
  {
   "cell_type": "code",
   "execution_count": null,
   "metadata": {},
   "outputs": [],
   "source": []
  }
 ],
 "metadata": {
  "kernelspec": {
   "display_name": "MLProject",
   "language": "python",
   "name": "python3"
  },
  "language_info": {
   "codemirror_mode": {
    "name": "ipython",
    "version": 3
   },
   "file_extension": ".py",
   "mimetype": "text/x-python",
   "name": "python",
   "nbconvert_exporter": "python",
   "pygments_lexer": "ipython3",
   "version": "3.11.5"
  }
 },
 "nbformat": 4,
 "nbformat_minor": 2
}
