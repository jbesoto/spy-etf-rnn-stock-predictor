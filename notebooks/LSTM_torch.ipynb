{
 "cells": [
  {
   "cell_type": "markdown",
   "metadata": {},
   "source": [
    "# LSTM vs. Transformers for Stock Price Prediction\n",
    "\n",
    "---\n",
    "\n",
    "\n",
    "\n",
    "> Question: Which model is better for predicting stock prices, using only previous stock price data, LSTM's or Transformers?\n",
    "\n",
    "We will evaluate our models on several axis: First, prediction performance on the test data set. Second, the variance of our models predictions over the variance of the underlying test data. Third, the speed of training and inference, and lastly but related, the number of parameters in our model.\n",
    "\n",
    "Evaluation Metrics:\n",
    "\n",
    "For prediction performance: Mean Absolute Percentage Error (MAPE).\n",
    "Specific implementation here: https://scikit-learn.org/stable/modules/generated/sklearn.metrics.mean_absolute_percentage_error.html\n",
    "\n",
    "For uncertainty: np.var('our predictions') / np.var('actual data')\n",
    "\n",
    "For speed: seconds of runtime.\n",
    "Specific implementation: https://docs.python.org/3/library/timeit.html\n",
    "\n",
    "Implementation steps:\n",
    "\n",
    "1. Set up our helper classes (`ETL`, `PredictAndForecast`, `Evaluate`). ✅\n",
    "2. Implement an LSTM as a baseline.✅\n",
    "3. Implement a transformer architecture for timeseries regression.✅\n",
    "4. Train our models and use them for inference, measuring performance as we go.✅\n",
    "5. Evaluate our models' performances against our test set. ✅\n",
    "6. Visualize our predictions as a sanity check.✅"
   ]
  },
  {
   "cell_type": "code",
   "execution_count": 1,
   "metadata": {},
   "outputs": [],
   "source": [
    "import pandas as pd\n",
    "import numpy as np\n",
    "import matplotlib.pyplot as plt\n",
    "import os\n",
    "import torch\n",
    "import torch.nn as nn\n",
    "import yfinance as yf"
   ]
  },
  {
   "cell_type": "code",
   "execution_count": 2,
   "metadata": {},
   "outputs": [],
   "source": [
    "FILE_PATH = '../data/amzn-etf.csv'\n",
    "\n",
    "\n",
    "if os.path.exists(FILE_PATH):\n",
    "    data = pd.read_csv(FILE_PATH)\n",
    "else:\n",
    "    data = yf.Ticker(\"AMZN\")\n",
    "    data = data.history(period=\"max\")\n",
    "    data.to_csv(FILE_PATH)"
   ]
  },
  {
   "cell_type": "code",
   "execution_count": 3,
   "metadata": {},
   "outputs": [
    {
     "data": {
      "text/html": [
       "<div>\n",
       "<style scoped>\n",
       "    .dataframe tbody tr th:only-of-type {\n",
       "        vertical-align: middle;\n",
       "    }\n",
       "\n",
       "    .dataframe tbody tr th {\n",
       "        vertical-align: top;\n",
       "    }\n",
       "\n",
       "    .dataframe thead th {\n",
       "        text-align: right;\n",
       "    }\n",
       "</style>\n",
       "<table border=\"1\" class=\"dataframe\">\n",
       "  <thead>\n",
       "    <tr style=\"text-align: right;\">\n",
       "      <th></th>\n",
       "      <th>Date</th>\n",
       "      <th>Open</th>\n",
       "      <th>High</th>\n",
       "      <th>Low</th>\n",
       "      <th>Close</th>\n",
       "      <th>Volume</th>\n",
       "      <th>Dividends</th>\n",
       "      <th>Stock Splits</th>\n",
       "    </tr>\n",
       "  </thead>\n",
       "  <tbody>\n",
       "    <tr>\n",
       "      <th>0</th>\n",
       "      <td>1997-05-15 00:00:00-04:00</td>\n",
       "      <td>0.121875</td>\n",
       "      <td>0.125000</td>\n",
       "      <td>0.096354</td>\n",
       "      <td>0.097917</td>\n",
       "      <td>1443120000</td>\n",
       "      <td>0.0</td>\n",
       "      <td>0.0</td>\n",
       "    </tr>\n",
       "    <tr>\n",
       "      <th>1</th>\n",
       "      <td>1997-05-16 00:00:00-04:00</td>\n",
       "      <td>0.098438</td>\n",
       "      <td>0.098958</td>\n",
       "      <td>0.085417</td>\n",
       "      <td>0.086458</td>\n",
       "      <td>294000000</td>\n",
       "      <td>0.0</td>\n",
       "      <td>0.0</td>\n",
       "    </tr>\n",
       "    <tr>\n",
       "      <th>2</th>\n",
       "      <td>1997-05-19 00:00:00-04:00</td>\n",
       "      <td>0.088021</td>\n",
       "      <td>0.088542</td>\n",
       "      <td>0.081250</td>\n",
       "      <td>0.085417</td>\n",
       "      <td>122136000</td>\n",
       "      <td>0.0</td>\n",
       "      <td>0.0</td>\n",
       "    </tr>\n",
       "    <tr>\n",
       "      <th>3</th>\n",
       "      <td>1997-05-20 00:00:00-04:00</td>\n",
       "      <td>0.086458</td>\n",
       "      <td>0.087500</td>\n",
       "      <td>0.081771</td>\n",
       "      <td>0.081771</td>\n",
       "      <td>109344000</td>\n",
       "      <td>0.0</td>\n",
       "      <td>0.0</td>\n",
       "    </tr>\n",
       "    <tr>\n",
       "      <th>4</th>\n",
       "      <td>1997-05-21 00:00:00-04:00</td>\n",
       "      <td>0.081771</td>\n",
       "      <td>0.082292</td>\n",
       "      <td>0.068750</td>\n",
       "      <td>0.071354</td>\n",
       "      <td>377064000</td>\n",
       "      <td>0.0</td>\n",
       "      <td>0.0</td>\n",
       "    </tr>\n",
       "    <tr>\n",
       "      <th>...</th>\n",
       "      <td>...</td>\n",
       "      <td>...</td>\n",
       "      <td>...</td>\n",
       "      <td>...</td>\n",
       "      <td>...</td>\n",
       "      <td>...</td>\n",
       "      <td>...</td>\n",
       "      <td>...</td>\n",
       "    </tr>\n",
       "    <tr>\n",
       "      <th>6690</th>\n",
       "      <td>2023-12-14 00:00:00-05:00</td>\n",
       "      <td>149.929993</td>\n",
       "      <td>150.539993</td>\n",
       "      <td>145.520004</td>\n",
       "      <td>147.419998</td>\n",
       "      <td>58400800</td>\n",
       "      <td>0.0</td>\n",
       "      <td>0.0</td>\n",
       "    </tr>\n",
       "    <tr>\n",
       "      <th>6691</th>\n",
       "      <td>2023-12-15 00:00:00-05:00</td>\n",
       "      <td>148.380005</td>\n",
       "      <td>150.570007</td>\n",
       "      <td>147.880005</td>\n",
       "      <td>149.970001</td>\n",
       "      <td>110039100</td>\n",
       "      <td>0.0</td>\n",
       "      <td>0.0</td>\n",
       "    </tr>\n",
       "    <tr>\n",
       "      <th>6692</th>\n",
       "      <td>2023-12-18 00:00:00-05:00</td>\n",
       "      <td>150.559998</td>\n",
       "      <td>154.850006</td>\n",
       "      <td>150.050003</td>\n",
       "      <td>154.070007</td>\n",
       "      <td>62512800</td>\n",
       "      <td>0.0</td>\n",
       "      <td>0.0</td>\n",
       "    </tr>\n",
       "    <tr>\n",
       "      <th>6693</th>\n",
       "      <td>2023-12-19 00:00:00-05:00</td>\n",
       "      <td>154.399994</td>\n",
       "      <td>155.119995</td>\n",
       "      <td>152.690002</td>\n",
       "      <td>153.789993</td>\n",
       "      <td>43171300</td>\n",
       "      <td>0.0</td>\n",
       "      <td>0.0</td>\n",
       "    </tr>\n",
       "    <tr>\n",
       "      <th>6694</th>\n",
       "      <td>2023-12-20 00:00:00-05:00</td>\n",
       "      <td>152.899994</td>\n",
       "      <td>155.630005</td>\n",
       "      <td>151.559998</td>\n",
       "      <td>152.119995</td>\n",
       "      <td>50258500</td>\n",
       "      <td>0.0</td>\n",
       "      <td>0.0</td>\n",
       "    </tr>\n",
       "  </tbody>\n",
       "</table>\n",
       "<p>6695 rows × 8 columns</p>\n",
       "</div>"
      ],
      "text/plain": [
       "                           Date        Open        High         Low  \\\n",
       "0     1997-05-15 00:00:00-04:00    0.121875    0.125000    0.096354   \n",
       "1     1997-05-16 00:00:00-04:00    0.098438    0.098958    0.085417   \n",
       "2     1997-05-19 00:00:00-04:00    0.088021    0.088542    0.081250   \n",
       "3     1997-05-20 00:00:00-04:00    0.086458    0.087500    0.081771   \n",
       "4     1997-05-21 00:00:00-04:00    0.081771    0.082292    0.068750   \n",
       "...                         ...         ...         ...         ...   \n",
       "6690  2023-12-14 00:00:00-05:00  149.929993  150.539993  145.520004   \n",
       "6691  2023-12-15 00:00:00-05:00  148.380005  150.570007  147.880005   \n",
       "6692  2023-12-18 00:00:00-05:00  150.559998  154.850006  150.050003   \n",
       "6693  2023-12-19 00:00:00-05:00  154.399994  155.119995  152.690002   \n",
       "6694  2023-12-20 00:00:00-05:00  152.899994  155.630005  151.559998   \n",
       "\n",
       "           Close      Volume  Dividends  Stock Splits  \n",
       "0       0.097917  1443120000        0.0           0.0  \n",
       "1       0.086458   294000000        0.0           0.0  \n",
       "2       0.085417   122136000        0.0           0.0  \n",
       "3       0.081771   109344000        0.0           0.0  \n",
       "4       0.071354   377064000        0.0           0.0  \n",
       "...          ...         ...        ...           ...  \n",
       "6690  147.419998    58400800        0.0           0.0  \n",
       "6691  149.970001   110039100        0.0           0.0  \n",
       "6692  154.070007    62512800        0.0           0.0  \n",
       "6693  153.789993    43171300        0.0           0.0  \n",
       "6694  152.119995    50258500        0.0           0.0  \n",
       "\n",
       "[6695 rows x 8 columns]"
      ]
     },
     "execution_count": 3,
     "metadata": {},
     "output_type": "execute_result"
    }
   ],
   "source": [
    "data"
   ]
  },
  {
   "cell_type": "code",
   "execution_count": 4,
   "metadata": {},
   "outputs": [
    {
     "data": {
      "text/html": [
       "<div>\n",
       "<style scoped>\n",
       "    .dataframe tbody tr th:only-of-type {\n",
       "        vertical-align: middle;\n",
       "    }\n",
       "\n",
       "    .dataframe tbody tr th {\n",
       "        vertical-align: top;\n",
       "    }\n",
       "\n",
       "    .dataframe thead th {\n",
       "        text-align: right;\n",
       "    }\n",
       "</style>\n",
       "<table border=\"1\" class=\"dataframe\">\n",
       "  <thead>\n",
       "    <tr style=\"text-align: right;\">\n",
       "      <th></th>\n",
       "      <th>Date</th>\n",
       "      <th>Close</th>\n",
       "    </tr>\n",
       "  </thead>\n",
       "  <tbody>\n",
       "    <tr>\n",
       "      <th>0</th>\n",
       "      <td>1997-05-15 00:00:00-04:00</td>\n",
       "      <td>0.097917</td>\n",
       "    </tr>\n",
       "    <tr>\n",
       "      <th>1</th>\n",
       "      <td>1997-05-16 00:00:00-04:00</td>\n",
       "      <td>0.086458</td>\n",
       "    </tr>\n",
       "    <tr>\n",
       "      <th>2</th>\n",
       "      <td>1997-05-19 00:00:00-04:00</td>\n",
       "      <td>0.085417</td>\n",
       "    </tr>\n",
       "    <tr>\n",
       "      <th>3</th>\n",
       "      <td>1997-05-20 00:00:00-04:00</td>\n",
       "      <td>0.081771</td>\n",
       "    </tr>\n",
       "    <tr>\n",
       "      <th>4</th>\n",
       "      <td>1997-05-21 00:00:00-04:00</td>\n",
       "      <td>0.071354</td>\n",
       "    </tr>\n",
       "    <tr>\n",
       "      <th>...</th>\n",
       "      <td>...</td>\n",
       "      <td>...</td>\n",
       "    </tr>\n",
       "    <tr>\n",
       "      <th>6690</th>\n",
       "      <td>2023-12-14 00:00:00-05:00</td>\n",
       "      <td>147.419998</td>\n",
       "    </tr>\n",
       "    <tr>\n",
       "      <th>6691</th>\n",
       "      <td>2023-12-15 00:00:00-05:00</td>\n",
       "      <td>149.970001</td>\n",
       "    </tr>\n",
       "    <tr>\n",
       "      <th>6692</th>\n",
       "      <td>2023-12-18 00:00:00-05:00</td>\n",
       "      <td>154.070007</td>\n",
       "    </tr>\n",
       "    <tr>\n",
       "      <th>6693</th>\n",
       "      <td>2023-12-19 00:00:00-05:00</td>\n",
       "      <td>153.789993</td>\n",
       "    </tr>\n",
       "    <tr>\n",
       "      <th>6694</th>\n",
       "      <td>2023-12-20 00:00:00-05:00</td>\n",
       "      <td>152.119995</td>\n",
       "    </tr>\n",
       "  </tbody>\n",
       "</table>\n",
       "<p>6695 rows × 2 columns</p>\n",
       "</div>"
      ],
      "text/plain": [
       "                           Date       Close\n",
       "0     1997-05-15 00:00:00-04:00    0.097917\n",
       "1     1997-05-16 00:00:00-04:00    0.086458\n",
       "2     1997-05-19 00:00:00-04:00    0.085417\n",
       "3     1997-05-20 00:00:00-04:00    0.081771\n",
       "4     1997-05-21 00:00:00-04:00    0.071354\n",
       "...                         ...         ...\n",
       "6690  2023-12-14 00:00:00-05:00  147.419998\n",
       "6691  2023-12-15 00:00:00-05:00  149.970001\n",
       "6692  2023-12-18 00:00:00-05:00  154.070007\n",
       "6693  2023-12-19 00:00:00-05:00  153.789993\n",
       "6694  2023-12-20 00:00:00-05:00  152.119995\n",
       "\n",
       "[6695 rows x 2 columns]"
      ]
     },
     "execution_count": 4,
     "metadata": {},
     "output_type": "execute_result"
    }
   ],
   "source": [
    "data = data[['Date', 'Close']]\n",
    "data"
   ]
  },
  {
   "cell_type": "code",
   "execution_count": 5,
   "metadata": {},
   "outputs": [
    {
     "data": {
      "text/plain": [
       "'cpu'"
      ]
     },
     "execution_count": 5,
     "metadata": {},
     "output_type": "execute_result"
    }
   ],
   "source": [
    "device = 'cuda:0' if torch.cuda.is_available() else 'cpu'\n",
    "device"
   ]
  },
  {
   "cell_type": "code",
   "execution_count": 6,
   "metadata": {},
   "outputs": [
    {
     "name": "stderr",
     "output_type": "stream",
     "text": [
      "/var/folders/5t/1wwb4x_d4hd53smqcd96d_500000gn/T/ipykernel_83780/1819287010.py:1: FutureWarning: In a future version of pandas, parsing datetimes with mixed time zones will raise an error unless `utc=True`. Please specify `utc=True` to opt in to the new behaviour and silence this warning. To create a `Series` with mixed offsets and `object` dtype, please use `apply` and `datetime.datetime.strptime`\n",
      "  data['Date'] = pd.to_datetime(data['Date'])\n",
      "/var/folders/5t/1wwb4x_d4hd53smqcd96d_500000gn/T/ipykernel_83780/1819287010.py:1: SettingWithCopyWarning: \n",
      "A value is trying to be set on a copy of a slice from a DataFrame.\n",
      "Try using .loc[row_indexer,col_indexer] = value instead\n",
      "\n",
      "See the caveats in the documentation: https://pandas.pydata.org/pandas-docs/stable/user_guide/indexing.html#returning-a-view-versus-a-copy\n",
      "  data['Date'] = pd.to_datetime(data['Date'])\n"
     ]
    },
    {
     "data": {
      "text/plain": [
       "[<matplotlib.lines.Line2D at 0x174d8c710>]"
      ]
     },
     "execution_count": 6,
     "metadata": {},
     "output_type": "execute_result"
    },
    {
     "data": {
      "image/png": "[encoded data removed]",
      "text/plain": [
       "<Figure size 640x480 with 1 Axes>"
      ]
     },
     "metadata": {},
     "output_type": "display_data"
    }
   ],
   "source": [
    "data['Date'] = pd.to_datetime(data['Date'])\n",
    "\n",
    "plt.plot(data['Date'], data['Close'])"
   ]
  },
  {
   "cell_type": "code",
   "execution_count": 7,
   "metadata": {},
   "outputs": [
    {
     "data": {
      "text/html": [
       "<div>\n",
       "<style scoped>\n",
       "    .dataframe tbody tr th:only-of-type {\n",
       "        vertical-align: middle;\n",
       "    }\n",
       "\n",
       "    .dataframe tbody tr th {\n",
       "        vertical-align: top;\n",
       "    }\n",
       "\n",
       "    .dataframe thead th {\n",
       "        text-align: right;\n",
       "    }\n",
       "</style>\n",
       "<table border=\"1\" class=\"dataframe\">\n",
       "  <thead>\n",
       "    <tr style=\"text-align: right;\">\n",
       "      <th></th>\n",
       "      <th>Close</th>\n",
       "      <th>Close(t-1)</th>\n",
       "      <th>Close(t-2)</th>\n",
       "      <th>Close(t-3)</th>\n",
       "      <th>Close(t-4)</th>\n",
       "      <th>Close(t-5)</th>\n",
       "      <th>Close(t-6)</th>\n",
       "      <th>Close(t-7)</th>\n",
       "    </tr>\n",
       "    <tr>\n",
       "      <th>Date</th>\n",
       "      <th></th>\n",
       "      <th></th>\n",
       "      <th></th>\n",
       "      <th></th>\n",
       "      <th></th>\n",
       "      <th></th>\n",
       "      <th></th>\n",
       "      <th></th>\n",
       "    </tr>\n",
       "  </thead>\n",
       "  <tbody>\n",
       "    <tr>\n",
       "      <th>1997-05-27 00:00:00-04:00</th>\n",
       "      <td>0.079167</td>\n",
       "      <td>0.075000</td>\n",
       "      <td>0.069792</td>\n",
       "      <td>0.071354</td>\n",
       "      <td>0.081771</td>\n",
       "      <td>0.085417</td>\n",
       "      <td>0.086458</td>\n",
       "      <td>0.097917</td>\n",
       "    </tr>\n",
       "    <tr>\n",
       "      <th>1997-05-28 00:00:00-04:00</th>\n",
       "      <td>0.076563</td>\n",
       "      <td>0.079167</td>\n",
       "      <td>0.075000</td>\n",
       "      <td>0.069792</td>\n",
       "      <td>0.071354</td>\n",
       "      <td>0.081771</td>\n",
       "      <td>0.085417</td>\n",
       "      <td>0.086458</td>\n",
       "    </tr>\n",
       "    <tr>\n",
       "      <th>1997-05-29 00:00:00-04:00</th>\n",
       "      <td>0.075260</td>\n",
       "      <td>0.076563</td>\n",
       "      <td>0.079167</td>\n",
       "      <td>0.075000</td>\n",
       "      <td>0.069792</td>\n",
       "      <td>0.071354</td>\n",
       "      <td>0.081771</td>\n",
       "      <td>0.085417</td>\n",
       "    </tr>\n",
       "    <tr>\n",
       "      <th>1997-05-30 00:00:00-04:00</th>\n",
       "      <td>0.075000</td>\n",
       "      <td>0.075260</td>\n",
       "      <td>0.076563</td>\n",
       "      <td>0.079167</td>\n",
       "      <td>0.075000</td>\n",
       "      <td>0.069792</td>\n",
       "      <td>0.071354</td>\n",
       "      <td>0.081771</td>\n",
       "    </tr>\n",
       "    <tr>\n",
       "      <th>1997-06-02 00:00:00-04:00</th>\n",
       "      <td>0.075521</td>\n",
       "      <td>0.075000</td>\n",
       "      <td>0.075260</td>\n",
       "      <td>0.076563</td>\n",
       "      <td>0.079167</td>\n",
       "      <td>0.075000</td>\n",
       "      <td>0.069792</td>\n",
       "      <td>0.071354</td>\n",
       "    </tr>\n",
       "    <tr>\n",
       "      <th>...</th>\n",
       "      <td>...</td>\n",
       "      <td>...</td>\n",
       "      <td>...</td>\n",
       "      <td>...</td>\n",
       "      <td>...</td>\n",
       "      <td>...</td>\n",
       "      <td>...</td>\n",
       "      <td>...</td>\n",
       "    </tr>\n",
       "    <tr>\n",
       "      <th>2023-12-14 00:00:00-05:00</th>\n",
       "      <td>147.419998</td>\n",
       "      <td>148.839996</td>\n",
       "      <td>147.479996</td>\n",
       "      <td>145.889999</td>\n",
       "      <td>147.419998</td>\n",
       "      <td>146.880005</td>\n",
       "      <td>144.520004</td>\n",
       "      <td>146.880005</td>\n",
       "    </tr>\n",
       "    <tr>\n",
       "      <th>2023-12-15 00:00:00-05:00</th>\n",
       "      <td>149.970001</td>\n",
       "      <td>147.419998</td>\n",
       "      <td>148.839996</td>\n",
       "      <td>147.479996</td>\n",
       "      <td>145.889999</td>\n",
       "      <td>147.419998</td>\n",
       "      <td>146.880005</td>\n",
       "      <td>144.520004</td>\n",
       "    </tr>\n",
       "    <tr>\n",
       "      <th>2023-12-18 00:00:00-05:00</th>\n",
       "      <td>154.070007</td>\n",
       "      <td>149.970001</td>\n",
       "      <td>147.419998</td>\n",
       "      <td>148.839996</td>\n",
       "      <td>147.479996</td>\n",
       "      <td>145.889999</td>\n",
       "      <td>147.419998</td>\n",
       "      <td>146.880005</td>\n",
       "    </tr>\n",
       "    <tr>\n",
       "      <th>2023-12-19 00:00:00-05:00</th>\n",
       "      <td>153.789993</td>\n",
       "      <td>154.070007</td>\n",
       "      <td>149.970001</td>\n",
       "      <td>147.419998</td>\n",
       "      <td>148.839996</td>\n",
       "      <td>147.479996</td>\n",
       "      <td>145.889999</td>\n",
       "      <td>147.419998</td>\n",
       "    </tr>\n",
       "    <tr>\n",
       "      <th>2023-12-20 00:00:00-05:00</th>\n",
       "      <td>152.119995</td>\n",
       "      <td>153.789993</td>\n",
       "      <td>154.070007</td>\n",
       "      <td>149.970001</td>\n",
       "      <td>147.419998</td>\n",
       "      <td>148.839996</td>\n",
       "      <td>147.479996</td>\n",
       "      <td>145.889999</td>\n",
       "    </tr>\n",
       "  </tbody>\n",
       "</table>\n",
       "<p>6688 rows × 8 columns</p>\n",
       "</div>"
      ],
      "text/plain": [
       "                                Close  Close(t-1)  Close(t-2)  Close(t-3)  \\\n",
       "Date                                                                        \n",
       "1997-05-27 00:00:00-04:00    0.079167    0.075000    0.069792    0.071354   \n",
       "1997-05-28 00:00:00-04:00    0.076563    0.079167    0.075000    0.069792   \n",
       "1997-05-29 00:00:00-04:00    0.075260    0.076563    0.079167    0.075000   \n",
       "1997-05-30 00:00:00-04:00    0.075000    0.075260    0.076563    0.079167   \n",
       "1997-06-02 00:00:00-04:00    0.075521    0.075000    0.075260    0.076563   \n",
       "...                               ...         ...         ...         ...   \n",
       "2023-12-14 00:00:00-05:00  147.419998  148.839996  147.479996  145.889999   \n",
       "2023-12-15 00:00:00-05:00  149.970001  147.419998  148.839996  147.479996   \n",
       "2023-12-18 00:00:00-05:00  154.070007  149.970001  147.419998  148.839996   \n",
       "2023-12-19 00:00:00-05:00  153.789993  154.070007  149.970001  147.419998   \n",
       "2023-12-20 00:00:00-05:00  152.119995  153.789993  154.070007  149.970001   \n",
       "\n",
       "                           Close(t-4)  Close(t-5)  Close(t-6)  Close(t-7)  \n",
       "Date                                                                       \n",
       "1997-05-27 00:00:00-04:00    0.081771    0.085417    0.086458    0.097917  \n",
       "1997-05-28 00:00:00-04:00    0.071354    0.081771    0.085417    0.086458  \n",
       "1997-05-29 00:00:00-04:00    0.069792    0.071354    0.081771    0.085417  \n",
       "1997-05-30 00:00:00-04:00    0.075000    0.069792    0.071354    0.081771  \n",
       "1997-06-02 00:00:00-04:00    0.079167    0.075000    0.069792    0.071354  \n",
       "...                               ...         ...         ...         ...  \n",
       "2023-12-14 00:00:00-05:00  147.419998  146.880005  144.520004  146.880005  \n",
       "2023-12-15 00:00:00-05:00  145.889999  147.419998  146.880005  144.520004  \n",
       "2023-12-18 00:00:00-05:00  147.479996  145.889999  147.419998  146.880005  \n",
       "2023-12-19 00:00:00-05:00  148.839996  147.479996  145.889999  147.419998  \n",
       "2023-12-20 00:00:00-05:00  147.419998  148.839996  147.479996  145.889999  \n",
       "\n",
       "[6688 rows x 8 columns]"
      ]
     },
     "execution_count": 7,
     "metadata": {},
     "output_type": "execute_result"
    }
   ],
   "source": [
    "from copy import deepcopy as dc\n",
    "\n",
    "def prepare_dataframe_for_lstm(df, n_steps):\n",
    "    df = dc(df)\n",
    "    \n",
    "    df.set_index('Date', inplace=True)\n",
    "    \n",
    "    for i in range(1, n_steps+1):\n",
    "        df[f'Close(t-{i})'] = df['Close'].shift(i)\n",
    "        \n",
    "    df.dropna(inplace=True)\n",
    "    \n",
    "    return df\n",
    "\n",
    "lookback = 7\n",
    "shifted_df = prepare_dataframe_for_lstm(data, lookback)\n",
    "shifted_df"
   ]
  },
  {
   "cell_type": "code",
   "execution_count": 8,
   "metadata": {},
   "outputs": [
    {
     "data": {
      "text/plain": [
       "array([[7.91670009e-02, 7.50000030e-02, 6.97920024e-02, ...,\n",
       "        8.54170024e-02, 8.64579976e-02, 9.79169980e-02],\n",
       "       [7.65630007e-02, 7.91670009e-02, 7.50000030e-02, ...,\n",
       "        8.17710012e-02, 8.54170024e-02, 8.64579976e-02],\n",
       "       [7.52599984e-02, 7.65630007e-02, 7.91670009e-02, ...,\n",
       "        7.13540018e-02, 8.17710012e-02, 8.54170024e-02],\n",
       "       ...,\n",
       "       [1.54070007e+02, 1.49970001e+02, 1.47419998e+02, ...,\n",
       "        1.45889999e+02, 1.47419998e+02, 1.46880005e+02],\n",
       "       [1.53789993e+02, 1.54070007e+02, 1.49970001e+02, ...,\n",
       "        1.47479996e+02, 1.45889999e+02, 1.47419998e+02],\n",
       "       [1.52119995e+02, 1.53789993e+02, 1.54070007e+02, ...,\n",
       "        1.48839996e+02, 1.47479996e+02, 1.45889999e+02]])"
      ]
     },
     "execution_count": 8,
     "metadata": {},
     "output_type": "execute_result"
    }
   ],
   "source": [
    "shifted_df_as_np = shifted_df.to_numpy()\n",
    "\n",
    "shifted_df_as_np"
   ]
  },
  {
   "cell_type": "code",
   "execution_count": 9,
   "metadata": {},
   "outputs": [
    {
     "data": {
      "text/plain": [
       "(6688, 8)"
      ]
     },
     "execution_count": 9,
     "metadata": {},
     "output_type": "execute_result"
    }
   ],
   "source": [
    "shifted_df_as_np.shape"
   ]
  },
  {
   "cell_type": "code",
   "execution_count": 10,
   "metadata": {},
   "outputs": [
    {
     "data": {
      "text/plain": [
       "array([[-0.99991063, -0.99995531, -1.        , ..., -0.99983244,\n",
       "        -0.99982128, -0.99969839],\n",
       "       [-0.99993855, -0.99991063, -0.99994415, ..., -0.99987154,\n",
       "        -0.99983244, -0.99982128],\n",
       "       [-0.99995253, -0.99993855, -0.99989946, ..., -0.99998325,\n",
       "        -0.99987154, -0.99983244],\n",
       "       ...,\n",
       "       [ 0.65146866,  0.60750069,  0.58015711, ...,  0.56374968,\n",
       "         0.58015711,  0.57436632],\n",
       "       [ 0.64846583,  0.65146866,  0.60750288, ...,  0.58080051,\n",
       "         0.56374968,  0.58015711],\n",
       "       [ 0.63055697,  0.64846583,  0.65147061, ...,  0.59538491,\n",
       "         0.58080051,  0.56374968]])"
      ]
     },
     "execution_count": 10,
     "metadata": {},
     "output_type": "execute_result"
    }
   ],
   "source": [
    "from sklearn.preprocessing import MinMaxScaler\n",
    "\n",
    "scaler = MinMaxScaler(feature_range=(-1, 1))\n",
    "shifted_df_as_np = scaler.fit_transform(shifted_df_as_np)\n",
    "\n",
    "shifted_df_as_np"
   ]
  },
  {
   "cell_type": "code",
   "execution_count": 11,
   "metadata": {},
   "outputs": [
    {
     "data": {
      "text/plain": [
       "((6688, 7), (6688,))"
      ]
     },
     "execution_count": 11,
     "metadata": {},
     "output_type": "execute_result"
    }
   ],
   "source": [
    "X = shifted_df_as_np[:, 1:]\n",
    "y = shifted_df_as_np[:, 0]\n",
    "\n",
    "X.shape, y.shape"
   ]
  },
  {
   "cell_type": "code",
   "execution_count": 12,
   "metadata": {},
   "outputs": [
    {
     "data": {
      "text/plain": [
       "array([[-0.99969839, -0.99982128, -0.99983244, ..., -0.99998325,\n",
       "        -1.        , -0.99995531],\n",
       "       [-0.99982128, -0.99983244, -0.99987154, ..., -1.        ,\n",
       "        -0.99994415, -0.99991063],\n",
       "       [-0.99983244, -0.99987154, -0.99998325, ..., -0.99994415,\n",
       "        -0.99989946, -0.99993855],\n",
       "       ...,\n",
       "       [ 0.57436632,  0.58015711,  0.56374968, ...,  0.59538491,\n",
       "         0.58015711,  0.60750069],\n",
       "       [ 0.58015711,  0.56374968,  0.58080051, ...,  0.58015711,\n",
       "         0.60750288,  0.65146866],\n",
       "       [ 0.56374968,  0.58080051,  0.59538491, ...,  0.60750288,\n",
       "         0.65147061,  0.64846583]])"
      ]
     },
     "execution_count": 12,
     "metadata": {},
     "output_type": "execute_result"
    }
   ],
   "source": [
    "X = dc(np.flip(X, axis=1))\n",
    "X"
   ]
  },
  {
   "cell_type": "code",
   "execution_count": 13,
   "metadata": {},
   "outputs": [
    {
     "data": {
      "text/plain": [
       "6353"
      ]
     },
     "execution_count": 13,
     "metadata": {},
     "output_type": "execute_result"
    }
   ],
   "source": [
    "split_index = int(len(X) * 0.95)\n",
    "\n",
    "split_index"
   ]
  },
  {
   "cell_type": "code",
   "execution_count": 14,
   "metadata": {},
   "outputs": [
    {
     "data": {
      "text/plain": [
       "((6353, 7), (335, 7), (6353,), (335,))"
      ]
     },
     "execution_count": 14,
     "metadata": {},
     "output_type": "execute_result"
    }
   ],
   "source": [
    "X_train = X[:split_index]\n",
    "X_test = X[split_index:]\n",
    "\n",
    "y_train = y[:split_index]\n",
    "y_test = y[split_index:]\n",
    "\n",
    "X_train.shape, X_test.shape, y_train.shape, y_test.shape"
   ]
  },
  {
   "cell_type": "code",
   "execution_count": 15,
   "metadata": {},
   "outputs": [
    {
     "data": {
      "text/plain": [
       "((6353, 7, 1), (335, 7, 1), (6353, 1), (335, 1))"
      ]
     },
     "execution_count": 15,
     "metadata": {},
     "output_type": "execute_result"
    }
   ],
   "source": [
    "X_train = X_train.reshape((-1, lookback, 1))\n",
    "X_test = X_test.reshape((-1, lookback, 1))\n",
    "\n",
    "y_train = y_train.reshape((-1, 1))\n",
    "y_test = y_test.reshape((-1, 1))\n",
    "\n",
    "X_train.shape, X_test.shape, y_train.shape, y_test.shape"
   ]
  },
  {
   "cell_type": "code",
   "execution_count": 16,
   "metadata": {},
   "outputs": [
    {
     "data": {
      "text/plain": [
       "(torch.Size([6353, 7, 1]),\n",
       " torch.Size([335, 7, 1]),\n",
       " torch.Size([6353, 1]),\n",
       " torch.Size([335, 1]))"
      ]
     },
     "execution_count": 16,
     "metadata": {},
     "output_type": "execute_result"
    }
   ],
   "source": [
    "X_train = torch.tensor(X_train).float()\n",
    "y_train = torch.tensor(y_train).float()\n",
    "X_test = torch.tensor(X_test).float()\n",
    "y_test = torch.tensor(y_test).float()\n",
    "\n",
    "X_train.shape, X_test.shape, y_train.shape, y_test.shape"
   ]
  },
  {
   "cell_type": "code",
   "execution_count": 17,
   "metadata": {},
   "outputs": [],
   "source": [
    "from torch.utils.data import Dataset\n",
    "\n",
    "class TimeSeriesDataset(Dataset):\n",
    "    def __init__(self, X, y):\n",
    "        self.X = X\n",
    "        self.y = y\n",
    "\n",
    "    def __len__(self):\n",
    "        return len(self.X)\n",
    "\n",
    "    def __getitem__(self, i):\n",
    "        return self.X[i], self.y[i]\n",
    "    \n",
    "train_dataset = TimeSeriesDataset(X_train, y_train)\n",
    "test_dataset = TimeSeriesDataset(X_test, y_test)"
   ]
  },
  {
   "cell_type": "code",
   "execution_count": 18,
   "metadata": {},
   "outputs": [
    {
     "data": {
      "text/plain": [
       "<__main__.TimeSeriesDataset at 0x174f89f10>"
      ]
     },
     "execution_count": 18,
     "metadata": {},
     "output_type": "execute_result"
    }
   ],
   "source": [
    "train_dataset"
   ]
  },
  {
   "cell_type": "code",
   "execution_count": 19,
   "metadata": {},
   "outputs": [],
   "source": [
    "from torch.utils.data import DataLoader\n",
    "\n",
    "batch_size = 16\n",
    "\n",
    "train_loader = DataLoader(train_dataset, batch_size=batch_size, shuffle=True)\n",
    "test_loader = DataLoader(test_dataset, batch_size=batch_size, shuffle=False)"
   ]
  },
  {
   "cell_type": "code",
   "execution_count": 20,
   "metadata": {},
   "outputs": [
    {
     "name": "stdout",
     "output_type": "stream",
     "text": [
      "torch.Size([16, 7, 1]) torch.Size([16, 1])\n"
     ]
    }
   ],
   "source": [
    "for _, batch in enumerate(train_loader):\n",
    "    x_batch, y_batch = batch[0].to(device), batch[1].to(device)\n",
    "    print(x_batch.shape, y_batch.shape)\n",
    "    break"
   ]
  },
  {
   "cell_type": "code",
   "execution_count": 21,
   "metadata": {},
   "outputs": [
    {
     "data": {
      "text/plain": [
       "LSTM(\n",
       "  (lstm): LSTM(1, 4, batch_first=True)\n",
       "  (fc): Linear(in_features=4, out_features=1, bias=True)\n",
       ")"
      ]
     },
     "execution_count": 21,
     "metadata": {},
     "output_type": "execute_result"
    }
   ],
   "source": [
    "class LSTM(nn.Module):\n",
    "    def __init__(self, input_size, hidden_size, num_stacked_layers):\n",
    "        super().__init__()\n",
    "        self.hidden_size = hidden_size\n",
    "        self.num_stacked_layers = num_stacked_layers\n",
    "\n",
    "        self.lstm = nn.LSTM(input_size, hidden_size, num_stacked_layers, \n",
    "                            batch_first=True)\n",
    "        \n",
    "        self.fc = nn.Linear(hidden_size, 1)\n",
    "\n",
    "    def forward(self, x):\n",
    "        batch_size = x.size(0)\n",
    "        h0 = torch.zeros(self.num_stacked_layers, batch_size, self.hidden_size).to(device)\n",
    "        c0 = torch.zeros(self.num_stacked_layers, batch_size, self.hidden_size).to(device)\n",
    "        \n",
    "        out, _ = self.lstm(x, (h0, c0))\n",
    "        out = self.fc(out[:, -1, :])\n",
    "        return out\n",
    "\n",
    "model = LSTM(1, 4, 1)\n",
    "model.to(device)\n",
    "model"
   ]
  },
  {
   "cell_type": "code",
   "execution_count": 22,
   "metadata": {},
   "outputs": [],
   "source": [
    "def train_one_epoch():\n",
    "    model.train(True)\n",
    "    print(f'Epoch: {epoch + 1}')\n",
    "    running_loss = 0.0\n",
    "    \n",
    "    for batch_index, batch in enumerate(train_loader):\n",
    "        x_batch, y_batch = batch[0].to(device), batch[1].to(device)\n",
    "        \n",
    "        output = model(x_batch)\n",
    "        loss = loss_function(output, y_batch)\n",
    "        running_loss += loss.item()\n",
    "        \n",
    "        optimizer.zero_grad()\n",
    "        loss.backward()\n",
    "        optimizer.step()\n",
    "\n",
    "        if batch_index % 100 == 99:  # print every 100 batches\n",
    "            avg_loss_across_batches = running_loss / 100\n",
    "            print('Batch {0}, Loss: {1:.3f}'.format(batch_index+1,\n",
    "                                                    avg_loss_across_batches))\n",
    "            running_loss = 0.0\n",
    "    print()"
   ]
  },
  {
   "cell_type": "code",
   "execution_count": 23,
   "metadata": {},
   "outputs": [],
   "source": [
    "def validate_one_epoch():\n",
    "    model.train(False)\n",
    "    running_loss = 0.0\n",
    "    \n",
    "    for batch_index, batch in enumerate(test_loader):\n",
    "        x_batch, y_batch = batch[0].to(device), batch[1].to(device)\n",
    "        \n",
    "        with torch.no_grad():\n",
    "            output = model(x_batch)\n",
    "            loss = loss_function(output, y_batch)\n",
    "            running_loss += loss.item()\n",
    "\n",
    "    avg_loss_across_batches = running_loss / len(test_loader)\n",
    "    \n",
    "    print('Val Loss: {0:.3f}'.format(avg_loss_across_batches))\n",
    "    print('***************************************************')\n",
    "    print()"
   ]
  },
  {
   "cell_type": "code",
   "execution_count": 24,
   "metadata": {},
   "outputs": [
    {
     "name": "stdout",
     "output_type": "stream",
     "text": [
      "Epoch: 1\n",
      "Batch 100, Loss: 0.319\n",
      "Batch 200, Loss: 0.221\n",
      "Batch 300, Loss: 0.182\n",
      "\n",
      "Val Loss: 0.508\n",
      "***************************************************\n",
      "\n",
      "Epoch: 2\n",
      "Batch 100, Loss: 0.111\n",
      "Batch 200, Loss: 0.064\n",
      "Batch 300, Loss: 0.043\n",
      "\n",
      "Val Loss: 0.060\n",
      "***************************************************\n",
      "\n",
      "Epoch: 3\n",
      "Batch 100, Loss: 0.033\n",
      "Batch 200, Loss: 0.024\n",
      "Batch 300, Loss: 0.020\n",
      "\n",
      "Val Loss: 0.013\n",
      "***************************************************\n",
      "\n",
      "Epoch: 4\n",
      "Batch 100, Loss: 0.011\n",
      "Batch 200, Loss: 0.008\n",
      "Batch 300, Loss: 0.006\n",
      "\n",
      "Val Loss: 0.009\n",
      "***************************************************\n",
      "\n",
      "Epoch: 5\n",
      "Batch 100, Loss: 0.002\n",
      "Batch 200, Loss: 0.002\n",
      "Batch 300, Loss: 0.001\n",
      "\n",
      "Val Loss: 0.005\n",
      "***************************************************\n",
      "\n",
      "Epoch: 6\n",
      "Batch 100, Loss: 0.001\n",
      "Batch 200, Loss: 0.001\n",
      "Batch 300, Loss: 0.001\n",
      "\n",
      "Val Loss: 0.003\n",
      "***************************************************\n",
      "\n",
      "Epoch: 7\n",
      "Batch 100, Loss: 0.001\n",
      "Batch 200, Loss: 0.000\n",
      "Batch 300, Loss: 0.001\n",
      "\n",
      "Val Loss: 0.002\n",
      "***************************************************\n",
      "\n",
      "Epoch: 8\n",
      "Batch 100, Loss: 0.000\n",
      "Batch 200, Loss: 0.001\n",
      "Batch 300, Loss: 0.001\n",
      "\n",
      "Val Loss: 0.003\n",
      "***************************************************\n",
      "\n",
      "Epoch: 9\n",
      "Batch 100, Loss: 0.000\n",
      "Batch 200, Loss: 0.000\n",
      "Batch 300, Loss: 0.000\n",
      "\n",
      "Val Loss: 0.002\n",
      "***************************************************\n",
      "\n",
      "Epoch: 10\n",
      "Batch 100, Loss: 0.000\n",
      "Batch 200, Loss: 0.000\n",
      "Batch 300, Loss: 0.000\n",
      "\n",
      "Val Loss: 0.002\n",
      "***************************************************\n",
      "\n"
     ]
    }
   ],
   "source": [
    "learning_rate = 0.001\n",
    "num_epochs = 10\n",
    "loss_function = nn.MSELoss()\n",
    "optimizer = torch.optim.Adam(model.parameters(), lr=learning_rate)\n",
    "\n",
    "for epoch in range(num_epochs):\n",
    "    train_one_epoch()\n",
    "    validate_one_epoch()"
   ]
  },
  {
   "cell_type": "code",
   "execution_count": 25,
   "metadata": {},
   "outputs": [
    {
     "data": {
      "image/png": "[encoded data removed]",
      "text/plain": [
       "<Figure size 640x480 with 1 Axes>"
      ]
     },
     "metadata": {},
     "output_type": "display_data"
    }
   ],
   "source": [
    "with torch.no_grad():\n",
    "    predicted = model(X_train.to(device)).to('cpu').numpy()\n",
    "\n",
    "plt.plot(y_train, label='Actual Close')\n",
    "plt.plot(predicted, label='Predicted Close')\n",
    "plt.xlabel('Day')\n",
    "plt.ylabel('Close')\n",
    "plt.legend()\n",
    "plt.show()\n"
   ]
  },
  {
   "cell_type": "code",
   "execution_count": 26,
   "metadata": {},
   "outputs": [
    {
     "data": {
      "text/plain": [
       "array([  0.43596833,   0.43475666,   0.43387848, ..., 144.74177328,\n",
       "       145.17021564, 144.27252318])"
      ]
     },
     "execution_count": 26,
     "metadata": {},
     "output_type": "execute_result"
    }
   ],
   "source": [
    "train_predictions = predicted.flatten()\n",
    "\n",
    "dummies = np.zeros((X_train.shape[0], lookback+1))\n",
    "dummies[:, 0] = train_predictions\n",
    "dummies = scaler.inverse_transform(dummies)\n",
    "\n",
    "train_predictions = dc(dummies[:, 0])\n",
    "train_predictions"
   ]
  },
  {
   "cell_type": "code",
   "execution_count": 27,
   "metadata": {},
   "outputs": [
    {
     "data": {
      "text/plain": [
       "array([7.91646240e-02, 7.65634224e-02, 7.52572635e-02, ...,\n",
       "       1.42300001e+02, 1.38229996e+02, 1.33220001e+02])"
      ]
     },
     "execution_count": 27,
     "metadata": {},
     "output_type": "execute_result"
    }
   ],
   "source": [
    "dummies = np.zeros((X_train.shape[0], lookback+1))\n",
    "dummies[:, 0] = y_train.flatten()\n",
    "dummies = scaler.inverse_transform(dummies)\n",
    "\n",
    "new_y_train = dc(dummies[:, 0])\n",
    "new_y_train"
   ]
  },
  {
   "cell_type": "code",
   "execution_count": 28,
   "metadata": {},
   "outputs": [
    {
     "data": {
      "image/png": "[encoded data removed]",
      "text/plain": [
       "<Figure size 640x480 with 1 Axes>"
      ]
     },
     "metadata": {},
     "output_type": "display_data"
    }
   ],
   "source": [
    "plt.plot(new_y_train, label='Actual Close')\n",
    "plt.plot(train_predictions, label='Predicted Close')\n",
    "plt.xlabel('Day')\n",
    "plt.ylabel('Close')\n",
    "plt.legend()\n",
    "plt.show()\n"
   ]
  },
  {
   "cell_type": "code",
   "execution_count": 29,
   "metadata": {},
   "outputs": [
    {
     "data": {
      "text/plain": [
       "array([142.55253977, 140.85242108, 139.22429121, 138.40108316,\n",
       "       136.39217461, 134.72615779, 133.36584051, 132.05743055,\n",
       "       131.07119997, 130.00665544, 128.6210765 , 128.74584803,\n",
       "       128.92634529, 130.02241828, 131.79124648, 131.15479137,\n",
       "       131.35388611, 130.85234332, 129.47374816, 128.40673304,\n",
       "       126.52448578, 124.03269584, 122.3621019 , 119.97176994,\n",
       "       118.45561123, 117.03237878, 116.5906539 , 115.61602451,\n",
       "       114.83367978, 114.98178292, 116.36278475, 117.29015897,\n",
       "       118.08935593, 117.39972347, 117.03330699, 116.34914372,\n",
       "       115.56736453, 114.34659506, 112.08311752, 111.99642609,\n",
       "       112.59317536, 112.87923806, 113.39956175, 114.78308141,\n",
       "       116.07492816, 117.70326091, 117.52142136, 116.32889965,\n",
       "       113.72468138, 111.28843376, 107.47092586, 103.23872918,\n",
       "        99.09188164,  96.31784048,  94.08505351,  92.54986935,\n",
       "        90.54311735,  91.68675398,  93.4838897 ,  94.60817294,\n",
       "        95.78493042,  96.5015698 ,  96.76493868,  96.99429185,\n",
       "        96.08245536,  95.23962574,  94.79701573,  94.2093387 ,\n",
       "        94.00472057,  93.63589881,  94.34958821,  94.66470044,\n",
       "        94.6503452 ,  93.97195405,  92.93934649,  92.12787442,\n",
       "        91.81936663,  90.90929762,  90.5852785 ,  90.81264186,\n",
       "        90.98691959,  90.68160077,  90.38867657,  89.37748724,\n",
       "        88.70279224,  88.2883897 ,  87.07433721,  86.55573932,\n",
       "        85.76748908,  84.97000958,  85.01453293,  84.86937421,\n",
       "        85.07798724,  85.23050214,  84.89773175,  85.50628787,\n",
       "        86.24374242,  87.23659828,  89.16210163,  90.61156286,\n",
       "        92.62691883,  93.95549089,  94.90549918,  95.24225752,\n",
       "        96.14637655,  96.47114741,  96.45273891,  96.54278328,\n",
       "        97.18969183,  98.39167763,  99.03994237, 100.06152678,\n",
       "       101.31542267, 104.1292329 , 104.1560029 , 104.22040418,\n",
       "       104.08119612, 103.49973864, 102.38595747, 101.0957726 ,\n",
       "       100.01160372,  99.65164716,  99.7490755 ,  99.17572315,\n",
       "        98.77456423,  97.98776327,  97.65364921,  97.13763862,\n",
       "        96.14244696,  95.37248156,  94.99470983,  94.27520246,\n",
       "        93.87196758,  94.03987848,  93.83970268,  93.83014687,\n",
       "        93.90350576,  93.58605078,  93.16680434,  93.18902849,\n",
       "        93.48648812,  94.01153622,  95.30119307,  96.08427981,\n",
       "        96.72405591,  98.06188779,  98.54424811,  98.86803101,\n",
       "        98.88185129,  98.66126467,  98.36287822,  98.83241734,\n",
       "        99.33452567, 100.14286852, 100.65940435, 101.57040018,\n",
       "       101.69834122, 102.14684146, 102.27097519, 101.73916286,\n",
       "       100.82169877, 101.12936867, 101.13972762, 101.39504139,\n",
       "       101.48921267, 102.08823383, 102.59053531, 103.82958962,\n",
       "       104.33602773, 104.0398159 , 104.4513039 , 105.74555384,\n",
       "       105.58999588, 104.92077701, 104.624882  , 104.34530007,\n",
       "       104.33454927, 104.45480899, 104.30643628, 104.71374805,\n",
       "       106.04994862, 107.44328809, 108.2161729 , 109.18912234,\n",
       "       110.38757318, 111.79235543, 113.45568351, 114.1946054 ,\n",
       "       114.59826826, 115.10292638, 115.792192  , 115.71320274,\n",
       "       116.68066631, 117.55110173, 118.27056742, 119.59190001,\n",
       "       121.02153542, 122.38669104, 123.93106278, 123.67935484,\n",
       "       124.227408  , 124.37861118, 125.04180365, 125.41197465,\n",
       "       125.6759049 , 126.09607399, 126.45229688, 126.64863758,\n",
       "       126.5719855 , 127.47302395, 127.91151539, 127.98858433,\n",
       "       128.54590289, 129.05401816, 129.22267385, 129.93862124,\n",
       "       130.06364288, 130.34724055, 130.28388906, 130.47188146,\n",
       "       129.97969299, 130.03316213, 130.24968993, 131.20393907,\n",
       "       132.12051247, 132.93291831, 133.50445455, 134.74624484,\n",
       "       134.35632028, 133.9464754 , 132.93426337, 132.08640783,\n",
       "       131.15285714, 130.41428541, 130.53914586, 131.31036045,\n",
       "       131.61673809, 131.33076432, 131.30100891, 133.58758739,\n",
       "       135.79657448, 137.09987652, 137.98955417, 139.21930835,\n",
       "       140.38615569, 141.57848981, 141.05495353, 139.97463782,\n",
       "       139.00983381, 138.07843133, 137.45579371, 136.72712656,\n",
       "       136.29586623, 135.37505754, 135.22673069, 135.06149881,\n",
       "       135.33806545, 135.46096667, 136.29270366, 136.97753112,\n",
       "       137.74138953, 137.92971819, 138.64480407, 139.0860718 ,\n",
       "       140.47553587, 141.00546956, 142.42380252, 143.69030979,\n",
       "       144.08659841, 144.21349592, 143.62662482, 142.1930626 ,\n",
       "       139.65505686, 137.11986631, 135.2931586 , 132.73635251,\n",
       "       130.73448054, 129.1643997 , 128.30128989, 128.48440781,\n",
       "       127.54759728, 127.36618015, 127.25835256, 127.6354323 ,\n",
       "       127.93064367, 128.39049776, 129.21703513, 130.37199365,\n",
       "       130.70690113, 131.76766336, 132.18088758, 131.78762258,\n",
       "       131.43121072, 130.11986329, 129.31702021, 129.10184859,\n",
       "       127.05351349, 125.23008785, 125.69196232, 126.90351365,\n",
       "       128.25748354, 130.4125874 , 132.57313544, 135.23950048,\n",
       "       137.85812957, 140.06679706, 141.42386283, 142.28692818,\n",
       "       143.38331242, 143.95882272, 145.11371176, 145.40476843,\n",
       "       145.48373825, 146.0784463 , 146.79806761, 146.76748681,\n",
       "       147.42669133, 147.73553399, 148.44697375, 148.92645635,\n",
       "       149.06251364, 149.09194946, 149.40912932, 148.99630528,\n",
       "       149.06773272, 148.52841137, 148.65222412, 148.85052683,\n",
       "       148.76309755, 149.0100672 , 149.60117358, 149.71666026,\n",
       "       150.51677431, 151.76637377, 152.78113142])"
      ]
     },
     "execution_count": 29,
     "metadata": {},
     "output_type": "execute_result"
    }
   ],
   "source": [
    "test_predictions = model(X_test.to(device)).detach().cpu().numpy().flatten()\n",
    "\n",
    "dummies = np.zeros((X_test.shape[0], lookback+1))\n",
    "dummies[:, 0] = test_predictions\n",
    "dummies = scaler.inverse_transform(dummies)\n",
    "\n",
    "test_predictions = dc(dummies[:, 0])\n",
    "test_predictions"
   ]
  },
  {
   "cell_type": "code",
   "execution_count": 30,
   "metadata": {},
   "outputs": [
    {
     "data": {
      "text/plain": [
       "array([133.61999403, 133.80000218, 137.27999862, 130.74999882,\n",
       "       129.78999425, 128.72999626, 126.76999641, 127.8200009 ,\n",
       "       127.51000214, 126.10999987, 129.47999549, 129.82000811,\n",
       "       133.27000458, 136.44999576, 126.82000007, 128.550002  ,\n",
       "       126.27999784, 123.52999973, 124.66000228, 122.19000296,\n",
       "       118.54000021, 117.30999869, 113.7799986 , 115.1500009 ,\n",
       "       114.41000352, 118.01000261, 114.80000312, 112.9999994 ,\n",
       "       115.87999784, 121.0899976 , 120.94999682, 120.30000211,\n",
       "       114.5599978 , 113.66999779, 112.20999975, 112.90000182,\n",
       "       112.52999896, 106.90000102, 113.79000044, 116.36000013,\n",
       "       115.07000006, 115.24999988, 119.31999941, 119.81999983,\n",
       "       120.59999903, 115.66000316, 110.95999871, 103.41000343,\n",
       "       102.44000258,  96.79000095,  92.12000272,  89.30000318,\n",
       "        90.98000337,  90.52999879,  89.98000341,  86.13999935,\n",
       "        96.62999718, 100.79000079,  98.48999771,  98.94000245,\n",
       "        97.1200027 ,  94.84999854,  94.13999938,  92.45999911,\n",
       "        93.19999695,  94.12999728,  93.41000366,  93.94999694,\n",
       "        92.41999816,  96.54000074,  95.50000002,  94.12999728,\n",
       "        91.01000212,  88.25000009,  88.45999918,  90.34999863,\n",
       "        89.08999645,  90.550003  ,  92.48999786,  91.58000189,\n",
       "        88.44999699,  87.86000049,  84.91999829,  85.19000218,\n",
       "        86.76999662,  83.7900006 ,  85.25000003,  83.04000068,\n",
       "        81.81999961,  84.1800002 ,  83.99999969,  85.81999945,\n",
       "        85.13999922,  83.12000291,  86.0800015 ,  87.36000042,\n",
       "        89.8700026 ,  95.08999638,  95.26999672,  98.12000283,\n",
       "        96.05000304,  95.45999907,  93.6800003 ,  97.2499999 ,\n",
       "        97.5199965 ,  96.31999981,  97.1800002 ,  99.22000124,\n",
       "       102.23999769, 100.55000312, 103.12999701, 105.15000096,\n",
       "       112.91000366, 103.38999905, 102.18000053, 102.11000083,\n",
       "       100.05000271,  98.23999785,  97.61000058,  99.54000115,\n",
       "        99.69999728, 101.16000365,  98.15000141,  97.19999694,\n",
       "        94.58000185,  95.79000099,  95.81999975,  93.5       ,\n",
       "        93.76000214,  94.23000337,  92.16999813,  92.12999727,\n",
       "        94.9000015 ,  93.75      ,  93.55000305,  93.91999819,\n",
       "        92.25000001,  90.73000334,  92.43000026,  94.87999729,\n",
       "        96.19999698, 100.04000087,  98.949997  ,  97.7099992 ,\n",
       "       100.61000028,  98.6999968 ,  98.70999899,  98.12999738,\n",
       "        98.04000095,  97.23999771, 100.24999996, 102.00000002,\n",
       "       103.29000078, 102.410004  , 103.94999663, 101.09999816,\n",
       "       102.05999787, 102.16999799,  99.91999821,  97.83000185,\n",
       "       102.40000146, 102.51000227, 102.7399981 , 102.30000318,\n",
       "       104.30000275, 103.80999724, 106.95999957, 106.20999895,\n",
       "       102.56999943, 104.98000298, 109.81999988, 105.44999648,\n",
       "       102.05000297, 103.62999742, 103.6500018 , 104.00000028,\n",
       "       105.66000321, 105.83000119, 106.62000223, 110.19000274,\n",
       "       112.17999978, 110.26000174, 111.19999708, 113.40000084,\n",
       "       115.50000008, 118.15000061, 116.24999931, 115.01000151,\n",
       "       114.98999783, 116.75000112, 114.99999967, 120.11000046,\n",
       "       121.66000257, 120.5800009 , 122.76999588, 124.24999899,\n",
       "       125.30000348, 126.61000028, 121.23000394, 124.24999899,\n",
       "       123.43000076, 126.56999847, 126.66000394, 126.41999862,\n",
       "       127.1100007 , 125.4899968 , 125.77999743, 124.83000303,\n",
       "       130.14999388, 129.3300012 , 127.33000232, 129.17999302,\n",
       "       129.03999224, 127.90000174, 130.360002  , 130.22000122,\n",
       "       130.38000568, 128.36000034, 129.77999796, 127.12999604,\n",
       "       128.77999991, 130.80000248, 134.3000026 , 134.67999202,\n",
       "       133.55999687, 132.83000132, 135.36000058, 129.96000611,\n",
       "       129.99999959, 128.8000036 , 129.13000604, 128.149995  ,\n",
       "       128.24999953, 132.21000659, 133.67999397, 131.69000249,\n",
       "       128.21000605, 128.91000441, 139.57000646, 142.22000282,\n",
       "       139.94000238, 137.85000637, 138.55999823, 138.41000394,\n",
       "       140.57000729, 137.66999822, 135.07000829, 133.97999644,\n",
       "       133.22000092, 134.67999202, 134.24999894, 135.52000505,\n",
       "       131.83999678, 133.2599944 , 133.14000008, 134.91000382,\n",
       "       135.07000829, 138.00999416, 138.11999498, 137.27000511,\n",
       "       135.36000058, 137.85000637, 138.22999579, 143.10000377,\n",
       "       141.2299955 , 144.85000661, 144.72000211, 140.39000192,\n",
       "       139.97999585, 137.63000474, 135.28999324, 129.3300012 ,\n",
       "       129.11999586, 131.27000292, 125.98000371, 125.98000371,\n",
       "       125.98000371, 127.12000254, 129.4600057 , 124.72000222,\n",
       "       126.99999988, 125.96000002, 127.9599989 , 128.25999581,\n",
       "       129.47999549, 131.83000049, 132.33000091, 129.78999425,\n",
       "       132.55000254, 131.47000086, 128.13000521, 128.39999382,\n",
       "       125.16999898, 126.55999663, 128.55999829, 121.39000007,\n",
       "       119.57000101, 127.73999727, 132.710007  , 133.08999642,\n",
       "       136.99999983, 138.070008  , 138.6000056 , 139.74000443,\n",
       "       142.71000695, 142.07999926, 140.60000448, 143.5599996 ,\n",
       "       142.58999596, 145.80000101, 143.19999441, 142.83000127,\n",
       "       145.17999238, 146.13000345, 143.89999554, 146.71000471,\n",
       "       146.74000745, 147.7299981 , 147.02999697, 146.32000788,\n",
       "       146.08999608, 147.02999697, 144.83999643, 146.88000546,\n",
       "       144.52000417, 146.88000546, 147.41999935, 145.88999814,\n",
       "       147.47999373, 148.83999419, 147.41999935, 149.96999951,\n",
       "       154.07000458, 153.7899919 , 152.11999268])"
      ]
     },
     "execution_count": 30,
     "metadata": {},
     "output_type": "execute_result"
    }
   ],
   "source": [
    "dummies = np.zeros((X_test.shape[0], lookback+1))\n",
    "dummies[:, 0] = y_test.flatten()\n",
    "dummies = scaler.inverse_transform(dummies)\n",
    "\n",
    "new_y_test = dc(dummies[:, 0])\n",
    "new_y_test"
   ]
  },
  {
   "cell_type": "code",
   "execution_count": 31,
   "metadata": {},
   "outputs": [
    {
     "data": {
      "image/png": "[encoded data removed]",
      "text/plain": [
       "<Figure size 640x480 with 1 Axes>"
      ]
     },
     "metadata": {},
     "output_type": "display_data"
    }
   ],
   "source": [
    "plt.plot(new_y_test, label='Actual Close')\n",
    "plt.plot(test_predictions, label='Predicted Close')\n",
    "plt.xlabel('Day')\n",
    "plt.ylabel('Close')\n",
    "plt.legend()\n",
    "plt.show()\n"
   ]
  },
  {
   "cell_type": "code",
   "execution_count": 34,
   "metadata": {},
   "outputs": [
    {
     "data": {
      "text/plain": [
       "(0.028042548695971194, 0.022927266770346844)"
      ]
     },
     "execution_count": 34,
     "metadata": {},
     "output_type": "execute_result"
    }
   ],
   "source": [
    "from sklearn.metrics import mean_absolute_percentage_error\n",
    "\n",
    "class Evaluate:\n",
    "\n",
    "  def __init__(self, actual, predictions) -> None:\n",
    "    self.actual = actual\n",
    "    self.predictions = predictions\n",
    "    self.var_ratio = self.compare_var()\n",
    "    self.mape = self.evaluate_model_with_mape()\n",
    "\n",
    "  def compare_var(self):\n",
    "    return abs( 1 - (np.var(self.predictions) / np.var(self.actual)))\n",
    "\n",
    "  def evaluate_model_with_mape(self):\n",
    "    return mean_absolute_percentage_error(self.actual.flatten(), self.predictions.flatten())\n",
    "\n",
    "baseline_evals = Evaluate(new_y_test, test_predictions)\n",
    "baseline_evals.mape, baseline_evals.var_ratio"
   ]
  }
 ],
 "metadata": {
  "kernelspec": {
   "display_name": "MLProject",
   "language": "python",
   "name": "python3"
  },
  "language_info": {
   "codemirror_mode": {
    "name": "ipython",
    "version": 3
   },
   "file_extension": ".py",
   "mimetype": "text/x-python",
   "name": "python",
   "nbconvert_exporter": "python",
   "pygments_lexer": "ipython3",
   "version": "3.11.5"
  }
 },
 "nbformat": 4,
 "nbformat_minor": 2
}
